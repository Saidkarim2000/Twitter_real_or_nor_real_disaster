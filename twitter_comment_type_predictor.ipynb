{
  "cells": [
    {
      "cell_type": "code",
      "execution_count": null,
      "metadata": {
        "id": "uHU-nU0cnfqR"
      },
      "outputs": [],
      "source": [
        "! pip install -q kaggle"
      ]
    },
    {
      "cell_type": "code",
      "execution_count": null,
      "metadata": {
        "id": "kLLQIN8rnq_m"
      },
      "outputs": [],
      "source": [
        "!mkdir ~/.kaggle"
      ]
    },
    {
      "cell_type": "code",
      "execution_count": null,
      "metadata": {
        "id": "NKKlPhBFntPv"
      },
      "outputs": [],
      "source": [
        "!cp /content/drive/MyDrive/kaggle.json ~/.kaggle/kaggle.json"
      ]
    },
    {
      "cell_type": "code",
      "execution_count": null,
      "metadata": {
        "id": "8uzxcmsXnvgP"
      },
      "outputs": [],
      "source": [
        "!chmod 600 /root/.kaggle/kaggle.json"
      ]
    },
    {
      "cell_type": "code",
      "execution_count": null,
      "metadata": {
        "colab": {
          "base_uri": "https://localhost:8080/"
        },
        "id": "ZcOlXzwK0vzS",
        "outputId": "f19efb8a-f723-45e7-e877-be41b930f577"
      },
      "outputs": [
        {
          "output_type": "stream",
          "name": "stdout",
          "text": [
            "Downloading nlp-getting-started.zip to /content\n",
            "\r  0% 0.00/593k [00:00<?, ?B/s]\n",
            "\r100% 593k/593k [00:00<00:00, 123MB/s]\n"
          ]
        }
      ],
      "source": [
        "!kaggle competitions download -c nlp-getting-started"
      ]
    },
    {
      "cell_type": "code",
      "execution_count": null,
      "metadata": {
        "id": "ruFu1K19n0E5"
      },
      "outputs": [],
      "source": [
        "import zipfile \n",
        "\n",
        "with zipfile.ZipFile('/content/nlp-getting-started.zip', 'r') as data:\n",
        "  data.extractall('/content/data')"
      ]
    },
    {
      "cell_type": "code",
      "execution_count": null,
      "metadata": {
        "colab": {
          "base_uri": "https://localhost:8080/"
        },
        "id": "OEL2lxV84tHS",
        "outputId": "c31dec4f-22da-44b2-befb-84b183139022"
      },
      "outputs": [
        {
          "output_type": "stream",
          "name": "stdout",
          "text": [
            "--2022-06-04 14:58:43--  https://raw.githubusercontent.com/mrdbourke/tensorflow-deep-learning/main/extras/helper_functions.py\n",
            "Resolving raw.githubusercontent.com (raw.githubusercontent.com)... 185.199.108.133, 185.199.109.133, 185.199.110.133, ...\n",
            "Connecting to raw.githubusercontent.com (raw.githubusercontent.com)|185.199.108.133|:443... connected.\n",
            "HTTP request sent, awaiting response... 200 OK\n",
            "Length: 10246 (10K) [text/plain]\n",
            "Saving to: ‘helper_functions.py’\n",
            "\n",
            "\rhelper_functions.py   0%[                    ]       0  --.-KB/s               \rhelper_functions.py 100%[===================>]  10.01K  --.-KB/s    in 0s      \n",
            "\n",
            "2022-06-04 14:58:43 (76.7 MB/s) - ‘helper_functions.py’ saved [10246/10246]\n",
            "\n"
          ]
        }
      ],
      "source": [
        "! wget https://raw.githubusercontent.com/mrdbourke/tensorflow-deep-learning/main/extras/helper_functions.py"
      ]
    },
    {
      "cell_type": "code",
      "execution_count": null,
      "metadata": {
        "id": "OgueOmdio-XY"
      },
      "outputs": [],
      "source": [
        "#Visualizing a text dataset\n",
        "import pandas as pd"
      ]
    },
    {
      "cell_type": "code",
      "execution_count": null,
      "metadata": {
        "id": "tMxugB5jp4y3"
      },
      "outputs": [],
      "source": [
        "train_df = pd.read_csv('data/train.csv')\n",
        "test_df = pd.read_csv('data/test.csv')"
      ]
    },
    {
      "cell_type": "code",
      "execution_count": null,
      "metadata": {
        "colab": {
          "base_uri": "https://localhost:8080/",
          "height": 206
        },
        "id": "cUNDAUoip9tX",
        "outputId": "73d11497-6e75-4df2-9110-b2b71ab7b14c"
      },
      "outputs": [
        {
          "output_type": "execute_result",
          "data": {
            "text/plain": [
              "   id keyword location                                               text  \\\n",
              "0   1     NaN      NaN  Our Deeds are the Reason of this #earthquake M...   \n",
              "1   4     NaN      NaN             Forest fire near La Ronge Sask. Canada   \n",
              "2   5     NaN      NaN  All residents asked to 'shelter in place' are ...   \n",
              "3   6     NaN      NaN  13,000 people receive #wildfires evacuation or...   \n",
              "4   7     NaN      NaN  Just got sent this photo from Ruby #Alaska as ...   \n",
              "\n",
              "   target  \n",
              "0       1  \n",
              "1       1  \n",
              "2       1  \n",
              "3       1  \n",
              "4       1  "
            ],
            "text/html": [
              "\n",
              "  <div id=\"df-5dd04f6f-79c7-4af5-b91a-e1c160b6f519\">\n",
              "    <div class=\"colab-df-container\">\n",
              "      <div>\n",
              "<style scoped>\n",
              "    .dataframe tbody tr th:only-of-type {\n",
              "        vertical-align: middle;\n",
              "    }\n",
              "\n",
              "    .dataframe tbody tr th {\n",
              "        vertical-align: top;\n",
              "    }\n",
              "\n",
              "    .dataframe thead th {\n",
              "        text-align: right;\n",
              "    }\n",
              "</style>\n",
              "<table border=\"1\" class=\"dataframe\">\n",
              "  <thead>\n",
              "    <tr style=\"text-align: right;\">\n",
              "      <th></th>\n",
              "      <th>id</th>\n",
              "      <th>keyword</th>\n",
              "      <th>location</th>\n",
              "      <th>text</th>\n",
              "      <th>target</th>\n",
              "    </tr>\n",
              "  </thead>\n",
              "  <tbody>\n",
              "    <tr>\n",
              "      <th>0</th>\n",
              "      <td>1</td>\n",
              "      <td>NaN</td>\n",
              "      <td>NaN</td>\n",
              "      <td>Our Deeds are the Reason of this #earthquake M...</td>\n",
              "      <td>1</td>\n",
              "    </tr>\n",
              "    <tr>\n",
              "      <th>1</th>\n",
              "      <td>4</td>\n",
              "      <td>NaN</td>\n",
              "      <td>NaN</td>\n",
              "      <td>Forest fire near La Ronge Sask. Canada</td>\n",
              "      <td>1</td>\n",
              "    </tr>\n",
              "    <tr>\n",
              "      <th>2</th>\n",
              "      <td>5</td>\n",
              "      <td>NaN</td>\n",
              "      <td>NaN</td>\n",
              "      <td>All residents asked to 'shelter in place' are ...</td>\n",
              "      <td>1</td>\n",
              "    </tr>\n",
              "    <tr>\n",
              "      <th>3</th>\n",
              "      <td>6</td>\n",
              "      <td>NaN</td>\n",
              "      <td>NaN</td>\n",
              "      <td>13,000 people receive #wildfires evacuation or...</td>\n",
              "      <td>1</td>\n",
              "    </tr>\n",
              "    <tr>\n",
              "      <th>4</th>\n",
              "      <td>7</td>\n",
              "      <td>NaN</td>\n",
              "      <td>NaN</td>\n",
              "      <td>Just got sent this photo from Ruby #Alaska as ...</td>\n",
              "      <td>1</td>\n",
              "    </tr>\n",
              "  </tbody>\n",
              "</table>\n",
              "</div>\n",
              "      <button class=\"colab-df-convert\" onclick=\"convertToInteractive('df-5dd04f6f-79c7-4af5-b91a-e1c160b6f519')\"\n",
              "              title=\"Convert this dataframe to an interactive table.\"\n",
              "              style=\"display:none;\">\n",
              "        \n",
              "  <svg xmlns=\"http://www.w3.org/2000/svg\" height=\"24px\"viewBox=\"0 0 24 24\"\n",
              "       width=\"24px\">\n",
              "    <path d=\"M0 0h24v24H0V0z\" fill=\"none\"/>\n",
              "    <path d=\"M18.56 5.44l.94 2.06.94-2.06 2.06-.94-2.06-.94-.94-2.06-.94 2.06-2.06.94zm-11 1L8.5 8.5l.94-2.06 2.06-.94-2.06-.94L8.5 2.5l-.94 2.06-2.06.94zm10 10l.94 2.06.94-2.06 2.06-.94-2.06-.94-.94-2.06-.94 2.06-2.06.94z\"/><path d=\"M17.41 7.96l-1.37-1.37c-.4-.4-.92-.59-1.43-.59-.52 0-1.04.2-1.43.59L10.3 9.45l-7.72 7.72c-.78.78-.78 2.05 0 2.83L4 21.41c.39.39.9.59 1.41.59.51 0 1.02-.2 1.41-.59l7.78-7.78 2.81-2.81c.8-.78.8-2.07 0-2.86zM5.41 20L4 18.59l7.72-7.72 1.47 1.35L5.41 20z\"/>\n",
              "  </svg>\n",
              "      </button>\n",
              "      \n",
              "  <style>\n",
              "    .colab-df-container {\n",
              "      display:flex;\n",
              "      flex-wrap:wrap;\n",
              "      gap: 12px;\n",
              "    }\n",
              "\n",
              "    .colab-df-convert {\n",
              "      background-color: #E8F0FE;\n",
              "      border: none;\n",
              "      border-radius: 50%;\n",
              "      cursor: pointer;\n",
              "      display: none;\n",
              "      fill: #1967D2;\n",
              "      height: 32px;\n",
              "      padding: 0 0 0 0;\n",
              "      width: 32px;\n",
              "    }\n",
              "\n",
              "    .colab-df-convert:hover {\n",
              "      background-color: #E2EBFA;\n",
              "      box-shadow: 0px 1px 2px rgba(60, 64, 67, 0.3), 0px 1px 3px 1px rgba(60, 64, 67, 0.15);\n",
              "      fill: #174EA6;\n",
              "    }\n",
              "\n",
              "    [theme=dark] .colab-df-convert {\n",
              "      background-color: #3B4455;\n",
              "      fill: #D2E3FC;\n",
              "    }\n",
              "\n",
              "    [theme=dark] .colab-df-convert:hover {\n",
              "      background-color: #434B5C;\n",
              "      box-shadow: 0px 1px 3px 1px rgba(0, 0, 0, 0.15);\n",
              "      filter: drop-shadow(0px 1px 2px rgba(0, 0, 0, 0.3));\n",
              "      fill: #FFFFFF;\n",
              "    }\n",
              "  </style>\n",
              "\n",
              "      <script>\n",
              "        const buttonEl =\n",
              "          document.querySelector('#df-5dd04f6f-79c7-4af5-b91a-e1c160b6f519 button.colab-df-convert');\n",
              "        buttonEl.style.display =\n",
              "          google.colab.kernel.accessAllowed ? 'block' : 'none';\n",
              "\n",
              "        async function convertToInteractive(key) {\n",
              "          const element = document.querySelector('#df-5dd04f6f-79c7-4af5-b91a-e1c160b6f519');\n",
              "          const dataTable =\n",
              "            await google.colab.kernel.invokeFunction('convertToInteractive',\n",
              "                                                     [key], {});\n",
              "          if (!dataTable) return;\n",
              "\n",
              "          const docLinkHtml = 'Like what you see? Visit the ' +\n",
              "            '<a target=\"_blank\" href=https://colab.research.google.com/notebooks/data_table.ipynb>data table notebook</a>'\n",
              "            + ' to learn more about interactive tables.';\n",
              "          element.innerHTML = '';\n",
              "          dataTable['output_type'] = 'display_data';\n",
              "          await google.colab.output.renderOutput(dataTable, element);\n",
              "          const docLink = document.createElement('div');\n",
              "          docLink.innerHTML = docLinkHtml;\n",
              "          element.appendChild(docLink);\n",
              "        }\n",
              "      </script>\n",
              "    </div>\n",
              "  </div>\n",
              "  "
            ]
          },
          "metadata": {},
          "execution_count": 10
        }
      ],
      "source": [
        "train_df.head()"
      ]
    },
    {
      "cell_type": "code",
      "execution_count": null,
      "metadata": {
        "colab": {
          "base_uri": "https://localhost:8080/",
          "height": 206
        },
        "id": "lUveuezHqIE0",
        "outputId": "655417ea-db48-416b-b637-65949e8860df"
      },
      "outputs": [
        {
          "output_type": "execute_result",
          "data": {
            "text/plain": [
              "        id      keyword               location  \\\n",
              "2644  3796  destruction                    NaN   \n",
              "2227  3185       deluge                    NaN   \n",
              "5448  7769       police                     UK   \n",
              "132    191   aftershock                    NaN   \n",
              "6845  9810       trauma  Montgomery County, MD   \n",
              "\n",
              "                                                   text  target  \n",
              "2644  So you have a new weapon that can cause un-ima...       1  \n",
              "2227  The f$&amp;@ing things I do for #GISHWHES Just...       0  \n",
              "5448  DT @georgegalloway: RT @Galloway4Mayor: ÛÏThe...       1  \n",
              "132   Aftershock back to school kick off was great. ...       0  \n",
              "6845  in response to trauma Children of Addicts deve...       0  "
            ],
            "text/html": [
              "\n",
              "  <div id=\"df-093db091-9a1c-4e83-9e98-848c89cc1f80\">\n",
              "    <div class=\"colab-df-container\">\n",
              "      <div>\n",
              "<style scoped>\n",
              "    .dataframe tbody tr th:only-of-type {\n",
              "        vertical-align: middle;\n",
              "    }\n",
              "\n",
              "    .dataframe tbody tr th {\n",
              "        vertical-align: top;\n",
              "    }\n",
              "\n",
              "    .dataframe thead th {\n",
              "        text-align: right;\n",
              "    }\n",
              "</style>\n",
              "<table border=\"1\" class=\"dataframe\">\n",
              "  <thead>\n",
              "    <tr style=\"text-align: right;\">\n",
              "      <th></th>\n",
              "      <th>id</th>\n",
              "      <th>keyword</th>\n",
              "      <th>location</th>\n",
              "      <th>text</th>\n",
              "      <th>target</th>\n",
              "    </tr>\n",
              "  </thead>\n",
              "  <tbody>\n",
              "    <tr>\n",
              "      <th>2644</th>\n",
              "      <td>3796</td>\n",
              "      <td>destruction</td>\n",
              "      <td>NaN</td>\n",
              "      <td>So you have a new weapon that can cause un-ima...</td>\n",
              "      <td>1</td>\n",
              "    </tr>\n",
              "    <tr>\n",
              "      <th>2227</th>\n",
              "      <td>3185</td>\n",
              "      <td>deluge</td>\n",
              "      <td>NaN</td>\n",
              "      <td>The f$&amp;amp;@ing things I do for #GISHWHES Just...</td>\n",
              "      <td>0</td>\n",
              "    </tr>\n",
              "    <tr>\n",
              "      <th>5448</th>\n",
              "      <td>7769</td>\n",
              "      <td>police</td>\n",
              "      <td>UK</td>\n",
              "      <td>DT @georgegalloway: RT @Galloway4Mayor: ÛÏThe...</td>\n",
              "      <td>1</td>\n",
              "    </tr>\n",
              "    <tr>\n",
              "      <th>132</th>\n",
              "      <td>191</td>\n",
              "      <td>aftershock</td>\n",
              "      <td>NaN</td>\n",
              "      <td>Aftershock back to school kick off was great. ...</td>\n",
              "      <td>0</td>\n",
              "    </tr>\n",
              "    <tr>\n",
              "      <th>6845</th>\n",
              "      <td>9810</td>\n",
              "      <td>trauma</td>\n",
              "      <td>Montgomery County, MD</td>\n",
              "      <td>in response to trauma Children of Addicts deve...</td>\n",
              "      <td>0</td>\n",
              "    </tr>\n",
              "  </tbody>\n",
              "</table>\n",
              "</div>\n",
              "      <button class=\"colab-df-convert\" onclick=\"convertToInteractive('df-093db091-9a1c-4e83-9e98-848c89cc1f80')\"\n",
              "              title=\"Convert this dataframe to an interactive table.\"\n",
              "              style=\"display:none;\">\n",
              "        \n",
              "  <svg xmlns=\"http://www.w3.org/2000/svg\" height=\"24px\"viewBox=\"0 0 24 24\"\n",
              "       width=\"24px\">\n",
              "    <path d=\"M0 0h24v24H0V0z\" fill=\"none\"/>\n",
              "    <path d=\"M18.56 5.44l.94 2.06.94-2.06 2.06-.94-2.06-.94-.94-2.06-.94 2.06-2.06.94zm-11 1L8.5 8.5l.94-2.06 2.06-.94-2.06-.94L8.5 2.5l-.94 2.06-2.06.94zm10 10l.94 2.06.94-2.06 2.06-.94-2.06-.94-.94-2.06-.94 2.06-2.06.94z\"/><path d=\"M17.41 7.96l-1.37-1.37c-.4-.4-.92-.59-1.43-.59-.52 0-1.04.2-1.43.59L10.3 9.45l-7.72 7.72c-.78.78-.78 2.05 0 2.83L4 21.41c.39.39.9.59 1.41.59.51 0 1.02-.2 1.41-.59l7.78-7.78 2.81-2.81c.8-.78.8-2.07 0-2.86zM5.41 20L4 18.59l7.72-7.72 1.47 1.35L5.41 20z\"/>\n",
              "  </svg>\n",
              "      </button>\n",
              "      \n",
              "  <style>\n",
              "    .colab-df-container {\n",
              "      display:flex;\n",
              "      flex-wrap:wrap;\n",
              "      gap: 12px;\n",
              "    }\n",
              "\n",
              "    .colab-df-convert {\n",
              "      background-color: #E8F0FE;\n",
              "      border: none;\n",
              "      border-radius: 50%;\n",
              "      cursor: pointer;\n",
              "      display: none;\n",
              "      fill: #1967D2;\n",
              "      height: 32px;\n",
              "      padding: 0 0 0 0;\n",
              "      width: 32px;\n",
              "    }\n",
              "\n",
              "    .colab-df-convert:hover {\n",
              "      background-color: #E2EBFA;\n",
              "      box-shadow: 0px 1px 2px rgba(60, 64, 67, 0.3), 0px 1px 3px 1px rgba(60, 64, 67, 0.15);\n",
              "      fill: #174EA6;\n",
              "    }\n",
              "\n",
              "    [theme=dark] .colab-df-convert {\n",
              "      background-color: #3B4455;\n",
              "      fill: #D2E3FC;\n",
              "    }\n",
              "\n",
              "    [theme=dark] .colab-df-convert:hover {\n",
              "      background-color: #434B5C;\n",
              "      box-shadow: 0px 1px 3px 1px rgba(0, 0, 0, 0.15);\n",
              "      filter: drop-shadow(0px 1px 2px rgba(0, 0, 0, 0.3));\n",
              "      fill: #FFFFFF;\n",
              "    }\n",
              "  </style>\n",
              "\n",
              "      <script>\n",
              "        const buttonEl =\n",
              "          document.querySelector('#df-093db091-9a1c-4e83-9e98-848c89cc1f80 button.colab-df-convert');\n",
              "        buttonEl.style.display =\n",
              "          google.colab.kernel.accessAllowed ? 'block' : 'none';\n",
              "\n",
              "        async function convertToInteractive(key) {\n",
              "          const element = document.querySelector('#df-093db091-9a1c-4e83-9e98-848c89cc1f80');\n",
              "          const dataTable =\n",
              "            await google.colab.kernel.invokeFunction('convertToInteractive',\n",
              "                                                     [key], {});\n",
              "          if (!dataTable) return;\n",
              "\n",
              "          const docLinkHtml = 'Like what you see? Visit the ' +\n",
              "            '<a target=\"_blank\" href=https://colab.research.google.com/notebooks/data_table.ipynb>data table notebook</a>'\n",
              "            + ' to learn more about interactive tables.';\n",
              "          element.innerHTML = '';\n",
              "          dataTable['output_type'] = 'display_data';\n",
              "          await google.colab.output.renderOutput(dataTable, element);\n",
              "          const docLink = document.createElement('div');\n",
              "          docLink.innerHTML = docLinkHtml;\n",
              "          element.appendChild(docLink);\n",
              "        }\n",
              "      </script>\n",
              "    </div>\n",
              "  </div>\n",
              "  "
            ]
          },
          "metadata": {},
          "execution_count": 11
        }
      ],
      "source": [
        "#Shuffle training dataframe\n",
        "train_df_shuffled = train_df.sample(frac=1,random_state=42)\n",
        "train_df_shuffled.head() "
      ]
    },
    {
      "cell_type": "code",
      "execution_count": null,
      "metadata": {
        "colab": {
          "base_uri": "https://localhost:8080/",
          "height": 206
        },
        "id": "CnLzEdmRq69X",
        "outputId": "0cbcacc7-f619-47a6-c815-1be4fa9fbb21"
      },
      "outputs": [
        {
          "output_type": "execute_result",
          "data": {
            "text/plain": [
              "   id keyword location                                               text\n",
              "0   0     NaN      NaN                 Just happened a terrible car crash\n",
              "1   2     NaN      NaN  Heard about #earthquake is different cities, s...\n",
              "2   3     NaN      NaN  there is a forest fire at spot pond, geese are...\n",
              "3   9     NaN      NaN           Apocalypse lighting. #Spokane #wildfires\n",
              "4  11     NaN      NaN      Typhoon Soudelor kills 28 in China and Taiwan"
            ],
            "text/html": [
              "\n",
              "  <div id=\"df-4df69fd7-6944-42c1-b0e5-a48e7502b112\">\n",
              "    <div class=\"colab-df-container\">\n",
              "      <div>\n",
              "<style scoped>\n",
              "    .dataframe tbody tr th:only-of-type {\n",
              "        vertical-align: middle;\n",
              "    }\n",
              "\n",
              "    .dataframe tbody tr th {\n",
              "        vertical-align: top;\n",
              "    }\n",
              "\n",
              "    .dataframe thead th {\n",
              "        text-align: right;\n",
              "    }\n",
              "</style>\n",
              "<table border=\"1\" class=\"dataframe\">\n",
              "  <thead>\n",
              "    <tr style=\"text-align: right;\">\n",
              "      <th></th>\n",
              "      <th>id</th>\n",
              "      <th>keyword</th>\n",
              "      <th>location</th>\n",
              "      <th>text</th>\n",
              "    </tr>\n",
              "  </thead>\n",
              "  <tbody>\n",
              "    <tr>\n",
              "      <th>0</th>\n",
              "      <td>0</td>\n",
              "      <td>NaN</td>\n",
              "      <td>NaN</td>\n",
              "      <td>Just happened a terrible car crash</td>\n",
              "    </tr>\n",
              "    <tr>\n",
              "      <th>1</th>\n",
              "      <td>2</td>\n",
              "      <td>NaN</td>\n",
              "      <td>NaN</td>\n",
              "      <td>Heard about #earthquake is different cities, s...</td>\n",
              "    </tr>\n",
              "    <tr>\n",
              "      <th>2</th>\n",
              "      <td>3</td>\n",
              "      <td>NaN</td>\n",
              "      <td>NaN</td>\n",
              "      <td>there is a forest fire at spot pond, geese are...</td>\n",
              "    </tr>\n",
              "    <tr>\n",
              "      <th>3</th>\n",
              "      <td>9</td>\n",
              "      <td>NaN</td>\n",
              "      <td>NaN</td>\n",
              "      <td>Apocalypse lighting. #Spokane #wildfires</td>\n",
              "    </tr>\n",
              "    <tr>\n",
              "      <th>4</th>\n",
              "      <td>11</td>\n",
              "      <td>NaN</td>\n",
              "      <td>NaN</td>\n",
              "      <td>Typhoon Soudelor kills 28 in China and Taiwan</td>\n",
              "    </tr>\n",
              "  </tbody>\n",
              "</table>\n",
              "</div>\n",
              "      <button class=\"colab-df-convert\" onclick=\"convertToInteractive('df-4df69fd7-6944-42c1-b0e5-a48e7502b112')\"\n",
              "              title=\"Convert this dataframe to an interactive table.\"\n",
              "              style=\"display:none;\">\n",
              "        \n",
              "  <svg xmlns=\"http://www.w3.org/2000/svg\" height=\"24px\"viewBox=\"0 0 24 24\"\n",
              "       width=\"24px\">\n",
              "    <path d=\"M0 0h24v24H0V0z\" fill=\"none\"/>\n",
              "    <path d=\"M18.56 5.44l.94 2.06.94-2.06 2.06-.94-2.06-.94-.94-2.06-.94 2.06-2.06.94zm-11 1L8.5 8.5l.94-2.06 2.06-.94-2.06-.94L8.5 2.5l-.94 2.06-2.06.94zm10 10l.94 2.06.94-2.06 2.06-.94-2.06-.94-.94-2.06-.94 2.06-2.06.94z\"/><path d=\"M17.41 7.96l-1.37-1.37c-.4-.4-.92-.59-1.43-.59-.52 0-1.04.2-1.43.59L10.3 9.45l-7.72 7.72c-.78.78-.78 2.05 0 2.83L4 21.41c.39.39.9.59 1.41.59.51 0 1.02-.2 1.41-.59l7.78-7.78 2.81-2.81c.8-.78.8-2.07 0-2.86zM5.41 20L4 18.59l7.72-7.72 1.47 1.35L5.41 20z\"/>\n",
              "  </svg>\n",
              "      </button>\n",
              "      \n",
              "  <style>\n",
              "    .colab-df-container {\n",
              "      display:flex;\n",
              "      flex-wrap:wrap;\n",
              "      gap: 12px;\n",
              "    }\n",
              "\n",
              "    .colab-df-convert {\n",
              "      background-color: #E8F0FE;\n",
              "      border: none;\n",
              "      border-radius: 50%;\n",
              "      cursor: pointer;\n",
              "      display: none;\n",
              "      fill: #1967D2;\n",
              "      height: 32px;\n",
              "      padding: 0 0 0 0;\n",
              "      width: 32px;\n",
              "    }\n",
              "\n",
              "    .colab-df-convert:hover {\n",
              "      background-color: #E2EBFA;\n",
              "      box-shadow: 0px 1px 2px rgba(60, 64, 67, 0.3), 0px 1px 3px 1px rgba(60, 64, 67, 0.15);\n",
              "      fill: #174EA6;\n",
              "    }\n",
              "\n",
              "    [theme=dark] .colab-df-convert {\n",
              "      background-color: #3B4455;\n",
              "      fill: #D2E3FC;\n",
              "    }\n",
              "\n",
              "    [theme=dark] .colab-df-convert:hover {\n",
              "      background-color: #434B5C;\n",
              "      box-shadow: 0px 1px 3px 1px rgba(0, 0, 0, 0.15);\n",
              "      filter: drop-shadow(0px 1px 2px rgba(0, 0, 0, 0.3));\n",
              "      fill: #FFFFFF;\n",
              "    }\n",
              "  </style>\n",
              "\n",
              "      <script>\n",
              "        const buttonEl =\n",
              "          document.querySelector('#df-4df69fd7-6944-42c1-b0e5-a48e7502b112 button.colab-df-convert');\n",
              "        buttonEl.style.display =\n",
              "          google.colab.kernel.accessAllowed ? 'block' : 'none';\n",
              "\n",
              "        async function convertToInteractive(key) {\n",
              "          const element = document.querySelector('#df-4df69fd7-6944-42c1-b0e5-a48e7502b112');\n",
              "          const dataTable =\n",
              "            await google.colab.kernel.invokeFunction('convertToInteractive',\n",
              "                                                     [key], {});\n",
              "          if (!dataTable) return;\n",
              "\n",
              "          const docLinkHtml = 'Like what you see? Visit the ' +\n",
              "            '<a target=\"_blank\" href=https://colab.research.google.com/notebooks/data_table.ipynb>data table notebook</a>'\n",
              "            + ' to learn more about interactive tables.';\n",
              "          element.innerHTML = '';\n",
              "          dataTable['output_type'] = 'display_data';\n",
              "          await google.colab.output.renderOutput(dataTable, element);\n",
              "          const docLink = document.createElement('div');\n",
              "          docLink.innerHTML = docLinkHtml;\n",
              "          element.appendChild(docLink);\n",
              "        }\n",
              "      </script>\n",
              "    </div>\n",
              "  </div>\n",
              "  "
            ]
          },
          "metadata": {},
          "execution_count": 12
        }
      ],
      "source": [
        "#What does a text dataframe look like?\n",
        "test_df.head()"
      ]
    },
    {
      "cell_type": "code",
      "execution_count": null,
      "metadata": {
        "colab": {
          "base_uri": "https://localhost:8080/"
        },
        "id": "9C_bA-AjrC7k",
        "outputId": "da28a1ff-5094-4739-df07-c0bc3096a5d7"
      },
      "outputs": [
        {
          "output_type": "execute_result",
          "data": {
            "text/plain": [
              "0    4342\n",
              "1    3271\n",
              "Name: target, dtype: int64"
            ]
          },
          "metadata": {},
          "execution_count": 13
        }
      ],
      "source": [
        "#How many examples of class?\n",
        "train_df.target.value_counts()"
      ]
    },
    {
      "cell_type": "code",
      "execution_count": null,
      "metadata": {
        "colab": {
          "base_uri": "https://localhost:8080/"
        },
        "id": "VHFpTuiNrNvX",
        "outputId": "45de5a80-3377-4186-b47e-29be16506cc6"
      },
      "outputs": [
        {
          "output_type": "execute_result",
          "data": {
            "text/plain": [
              "(7613, 3263)"
            ]
          },
          "metadata": {},
          "execution_count": 14
        }
      ],
      "source": [
        "#How many total samples?\n",
        "len(train_df), len(test_df)"
      ]
    },
    {
      "cell_type": "code",
      "execution_count": null,
      "metadata": {
        "colab": {
          "base_uri": "https://localhost:8080/"
        },
        "id": "l6YEqwyprxUe",
        "outputId": "f75628d1-4910-4c74-b74c-943d275e5569"
      },
      "outputs": [
        {
          "output_type": "stream",
          "name": "stdout",
          "text": [
            "Target: 0 (not real disaster)\n",
            "Text:\n",
            "The @rbcinsurance quote website = disaster. Tried 3 browsers &amp; 3 machines. Always get 'Missing Info' error due to a non-existant drop down.\n",
            "\n",
            "---\n",
            "\n",
            "Target: 1 (real disaster)\n",
            "Text:\n",
            "4 dead dozens injured in Gaza blast near house leveled in summer war - Washington Post  http://t.co/AXXDCaKzTY #World\n",
            "\n",
            "---\n",
            "\n",
            "Target: 0 (not real disaster)\n",
            "Text:\n",
            "RT @tonyhsieh: 'The person who dances with you in the rain will most likely walk with you in the storm.' -Anonymous\n",
            "\n",
            "---\n",
            "\n",
            "Target: 0 (not real disaster)\n",
            "Text:\n",
            "Beyonce Is my pick for http://t.co/nnMQlz91o9 Fan Army #Beyhive http://t.co/o91f3cYy0R 77\n",
            "\n",
            "---\n",
            "\n",
            "Target: 0 (not real disaster)\n",
            "Text:\n",
            "Ted Cruz fires back at Jeb &amp; Bush: ÛÏWe lose because of Republicans like Jeb &amp; Mitt.Û [Video] -  http://t.co/BFTHaHLCr0\n",
            "\n",
            "---\n",
            "\n"
          ]
        }
      ],
      "source": [
        "# Let's visualize some random training examples\n",
        "import random\n",
        "random_index = random.randint(0, len(train_df)-5) # create random indexes not higher than the total number of samples\n",
        "for row in train_df_shuffled[['text','target']][random_index:random_index+5].itertuples():\n",
        "  _, text, target = row\n",
        "  print(f'Target: {target}', '(real disaster)' if target > 0 else \"(not real disaster)\")\n",
        "  print(f'Text:\\n{text}\\n')\n",
        "  print('---\\n')"
      ]
    },
    {
      "cell_type": "code",
      "execution_count": null,
      "metadata": {
        "id": "N_UE4VixtLol"
      },
      "outputs": [],
      "source": [
        "# Split data into training and validation dataset\n",
        "from sklearn.model_selection import train_test_split"
      ]
    },
    {
      "cell_type": "code",
      "execution_count": null,
      "metadata": {
        "id": "GVeIMzdIwBTD"
      },
      "outputs": [],
      "source": [
        "# Use train_test_split to split training data into training and validation sets\n",
        "train_sentences, val_sentences, train_labels, val_labels = train_test_split(train_df_shuffled[\"text\"].to_numpy(),\n",
        "                                                                            train_df_shuffled[\"target\"].to_numpy(),\n",
        "                                                                            test_size=0.1, #use 10% for validation split\n",
        "                                                                            random_state=42)"
      ]
    },
    {
      "cell_type": "code",
      "execution_count": null,
      "metadata": {
        "colab": {
          "base_uri": "https://localhost:8080/"
        },
        "id": "WUvnjGRuxMYl",
        "outputId": "05778646-5be1-426a-c323-994ddcc76ffa"
      },
      "outputs": [
        {
          "output_type": "execute_result",
          "data": {
            "text/plain": [
              "(6851, 762, 6851, 762)"
            ]
          },
          "metadata": {},
          "execution_count": 18
        }
      ],
      "source": [
        "# Check the lengths\n",
        "len(train_sentences), len(val_sentences), len(train_labels), len(val_labels)"
      ]
    },
    {
      "cell_type": "code",
      "execution_count": null,
      "metadata": {
        "colab": {
          "base_uri": "https://localhost:8080/"
        },
        "id": "tVX_Tm5vxeOR",
        "outputId": "0eba867c-4e02-41d6-c81f-f26371227f52"
      },
      "outputs": [
        {
          "output_type": "execute_result",
          "data": {
            "text/plain": [
              "(array(['@mogacola @zamtriossu i screamed after hitting tweet',\n",
              "        'Imagine getting flattened by Kurt Zouma',\n",
              "        '@Gurmeetramrahim #MSGDoing111WelfareWorks Green S welfare force ke appx 65000 members har time disaster victim ki help ke liye tyar hai....',\n",
              "        \"@shakjn @C7 @Magnums im shaking in fear he's gonna hack the planet\",\n",
              "        'Somehow find you and I collide http://t.co/Ee8RpOahPk',\n",
              "        '@EvaHanderek @MarleyKnysh great times until the bus driver held us hostage in the mall parking lot lmfao',\n",
              "        'destroy the free fandom honestly',\n",
              "        'Weapons stolen from National Guard Armory in New Albany still missing #Gunsense http://t.co/lKNU8902JE',\n",
              "        '@wfaaweather Pete when will the heat wave pass? Is it really going to be mid month? Frisco Boy Scouts have a canoe trip in Okla.',\n",
              "        'Patient-reported outcomes in long-term survivors of metastatic colorectal cancer - British Journal of Surgery http://t.co/5Yl4DC1Tqt'],\n",
              "       dtype=object), array([0, 0, 1, 0, 0, 1, 1, 0, 1, 1]))"
            ]
          },
          "metadata": {},
          "execution_count": 19
        }
      ],
      "source": [
        "# Check the first 10 samples\n",
        "train_sentences[:10], train_labels[:10]"
      ]
    },
    {
      "cell_type": "markdown",
      "metadata": {
        "id": "gb0aZ0LuEEHF"
      },
      "source": [
        "###**Creating a Tokenization**"
      ]
    },
    {
      "cell_type": "code",
      "execution_count": null,
      "metadata": {
        "colab": {
          "base_uri": "https://localhost:8080/"
        },
        "id": "OWgcEOp9x5Di",
        "outputId": "53dc326d-aa3b-4c03-fe4e-2ff23fe121c5"
      },
      "outputs": [
        {
          "output_type": "execute_result",
          "data": {
            "text/plain": [
              "array(['@mogacola @zamtriossu i screamed after hitting tweet',\n",
              "       'Imagine getting flattened by Kurt Zouma',\n",
              "       '@Gurmeetramrahim #MSGDoing111WelfareWorks Green S welfare force ke appx 65000 members har time disaster victim ki help ke liye tyar hai....',\n",
              "       \"@shakjn @C7 @Magnums im shaking in fear he's gonna hack the planet\",\n",
              "       'Somehow find you and I collide http://t.co/Ee8RpOahPk'],\n",
              "      dtype=object)"
            ]
          },
          "metadata": {},
          "execution_count": 20
        }
      ],
      "source": [
        "# Converting text into numbers using tokenization (Text vectorization)\n",
        "train_sentences[:5]"
      ]
    },
    {
      "cell_type": "code",
      "execution_count": null,
      "metadata": {
        "id": "96msOn-B06y9"
      },
      "outputs": [],
      "source": [
        "from pandas.core.common import standardize_mapping\n",
        "import tensorflow as tf\n",
        "from tensorflow.keras.layers.experimental.preprocessing import TextVectorization\n",
        "\n",
        "# Use the default TextVectorization parameters\n",
        "text_vectorizer = TextVectorization(max_tokens=None, # How many words in the vocabulary (automatically add <OOV>)\n",
        "                                    standardize=\"lower_and_strip_punctuation\",\n",
        "                                    split=\"whitespace\", # Split words by space\n",
        "                                    ngrams=None, # Create groups of n-words\n",
        "                                    output_mode=\"int\", # How to map tokens to numbers\n",
        "                                    output_sequence_length = None, # how long do you want your sequences to be?\n",
        "                                    pad_to_max_tokens=False)"
      ]
    },
    {
      "cell_type": "code",
      "execution_count": null,
      "metadata": {
        "colab": {
          "base_uri": "https://localhost:8080/"
        },
        "id": "zpCBCVJ2-Ge_",
        "outputId": "bd1f1169-a325-4047-af09-f71bcb775a97"
      },
      "outputs": [
        {
          "output_type": "execute_result",
          "data": {
            "text/plain": [
              "7"
            ]
          },
          "metadata": {},
          "execution_count": 22
        }
      ],
      "source": [
        "len(train_sentences[0].split())"
      ]
    },
    {
      "cell_type": "code",
      "execution_count": null,
      "metadata": {
        "colab": {
          "base_uri": "https://localhost:8080/"
        },
        "id": "5lLU17ML1SmK",
        "outputId": "53f9eb26-4b58-46e5-8875-7b382af14d8e"
      },
      "outputs": [
        {
          "output_type": "execute_result",
          "data": {
            "text/plain": [
              "15"
            ]
          },
          "metadata": {},
          "execution_count": 23
        }
      ],
      "source": [
        "# Find the average number of tokens (words) in the training tweets\n",
        "round(sum([len(i.split()) for i in train_sentences]) / len(train_sentences))"
      ]
    },
    {
      "cell_type": "code",
      "execution_count": null,
      "metadata": {
        "id": "9pbHBL4C-lnJ"
      },
      "outputs": [],
      "source": [
        "# Setup text vectorization variables\n",
        "max_vocab_length = 10000 # Max number of words to have in our vocabulary\n",
        "max_length = 15 # Max length our sequnces will be (e.g how many words from a Tweet does a model see?)\n",
        "\n",
        "text_vectorizer = TextVectorization(max_tokens=max_vocab_length,\n",
        "                                    output_mode = 'int',\n",
        "                                    output_sequence_length=max_length,\n",
        "                                    pad_to_max_tokens=True)"
      ]
    },
    {
      "cell_type": "code",
      "execution_count": null,
      "metadata": {
        "id": "Z481afqG_eXy"
      },
      "outputs": [],
      "source": [
        "# Fit the text vectorizer to the training set\n",
        "text_vectorizer.adapt(train_sentences)"
      ]
    },
    {
      "cell_type": "code",
      "execution_count": null,
      "metadata": {
        "id": "_W2RljCZAHky",
        "colab": {
          "base_uri": "https://localhost:8080/"
        },
        "outputId": "9235706d-a9a9-4aeb-9e10-7b39859c80e0"
      },
      "outputs": [
        {
          "output_type": "execute_result",
          "data": {
            "text/plain": [
              "<tf.Tensor: shape=(1, 15), dtype=int64, numpy=\n",
              "array([[264,   3, 232,   4,  13, 698,   0,   0,   0,   0,   0,   0,   0,\n",
              "          0,   0]])>"
            ]
          },
          "metadata": {},
          "execution_count": 26
        }
      ],
      "source": [
        "sample_sentence = \"There's a flood in my street!\"\n",
        "text_vectorizer([sample_sentence])"
      ]
    },
    {
      "cell_type": "code",
      "execution_count": null,
      "metadata": {
        "id": "EkXkgrv-AQ00",
        "colab": {
          "base_uri": "https://localhost:8080/"
        },
        "outputId": "abe2c2ec-81bc-498a-d724-6108728b3969"
      },
      "outputs": [
        {
          "output_type": "stream",
          "name": "stdout",
          "text": [
            "Original text:\n",
            " @MistressPip I'm amazed you have not been inundated mistress.\n",
            "\n",
            "Vectorized version\n"
          ]
        },
        {
          "output_type": "execute_result",
          "data": {
            "text/plain": [
              "<tf.Tensor: shape=(1, 15), dtype=int64, numpy=\n",
              "array([[  1,  32,   1,  12,  24,  34,  59, 507,   1,   0,   0,   0,   0,\n",
              "          0,   0]])>"
            ]
          },
          "metadata": {},
          "execution_count": 27
        }
      ],
      "source": [
        "# Choose random sentence from the training dataset and tokenize it\n",
        "random_sentence = random.choice(train_sentences)\n",
        "print(f\"Original text:\\n {random_sentence}\\n\\nVectorized version\")\n",
        "text_vectorizer([random_sentence])"
      ]
    },
    {
      "cell_type": "code",
      "execution_count": null,
      "metadata": {
        "id": "xWJdL7cIBBBF",
        "colab": {
          "base_uri": "https://localhost:8080/"
        },
        "outputId": "5618edd7-3fce-4a0b-e341-15c42602d386"
      },
      "outputs": [
        {
          "output_type": "stream",
          "name": "stdout",
          "text": [
            "Number of words in vocab: 10000\n",
            "5 most common words: ['', '[UNK]', 'the', 'a', 'in']\n",
            "5 least common words: ['pages', 'paeds', 'pads', 'padres', 'paddytomlinson1']\n"
          ]
        }
      ],
      "source": [
        "# Get the unique words in the vocabulary\n",
        "words_in_vocab = text_vectorizer.get_vocabulary() # Get all of the unique words in our training data\n",
        "top_5_words = words_in_vocab[:5] # Get the most words\n",
        "bottom_5_words = words_in_vocab[-5:] # Get the least common words\n",
        "print(f\"Number of words in vocab: {len(words_in_vocab)}\")\n",
        "print(f\"5 most common words: {top_5_words}\")\n",
        "print(f\"5 least common words: {bottom_5_words}\")"
      ]
    },
    {
      "cell_type": "code",
      "execution_count": null,
      "metadata": {
        "id": "QHPEpR0qDpuO"
      },
      "outputs": [],
      "source": [
        ""
      ]
    },
    {
      "cell_type": "markdown",
      "metadata": {
        "id": "0Lb760H8DX_-"
      },
      "source": [
        "### **Creating an Embedding using an Embedding Layer**\n",
        "\n",
        "The parameters we care most about for our embedding layer:\n",
        "* `input_dim` = the size of our vocabulary\n",
        "* `output_dim` = the size of the output embedded vector, for example, a value of 100 would mean each token gets represented by a vector 100 long\n",
        "* `input_length` = length of the sequences being passed to the embedding layer"
      ]
    },
    {
      "cell_type": "code",
      "execution_count": null,
      "metadata": {
        "id": "ImZ1yNGJCS1L",
        "colab": {
          "base_uri": "https://localhost:8080/"
        },
        "outputId": "a5f63f8a-d7fc-4be8-9ccf-f15a1575d312"
      },
      "outputs": [
        {
          "output_type": "execute_result",
          "data": {
            "text/plain": [
              "<keras.layers.embeddings.Embedding at 0x7f4d022b4750>"
            ]
          },
          "metadata": {},
          "execution_count": 29
        }
      ],
      "source": [
        "from tensorflow.keras import layers\n",
        "\n",
        "embedding = layers.Embedding(input_dim=max_vocab_length, # set input shape\n",
        "                             output_dim=128, # output shape\n",
        "                             embeddings_initializer=\"uniform\",\n",
        "                             input_length=max_length # How long each input is\n",
        "                             )\n",
        "\n",
        "embedding"
      ]
    },
    {
      "cell_type": "code",
      "execution_count": null,
      "metadata": {
        "id": "o6gLKoJgF61j",
        "colab": {
          "base_uri": "https://localhost:8080/"
        },
        "outputId": "822a2750-2f1d-414e-84cb-951290f15632"
      },
      "outputs": [
        {
          "output_type": "stream",
          "name": "stdout",
          "text": [
            "Original text:\n",
            " @abcnews A nuclear bomb is a terrible weapon!!      \n",
            "\n",
            "Embedded version:\n"
          ]
        },
        {
          "output_type": "execute_result",
          "data": {
            "text/plain": [
              "<tf.Tensor: shape=(1, 15, 128), dtype=float32, numpy=\n",
              "array([[[ 0.00139808,  0.0149509 ,  0.0112424 , ...,  0.039124  ,\n",
              "          0.04808127, -0.02905122],\n",
              "        [ 0.01127641, -0.01716474,  0.0145101 , ...,  0.02522102,\n",
              "          0.03412703, -0.03438784],\n",
              "        [-0.03222014,  0.02865367, -0.02690721, ..., -0.00998354,\n",
              "          0.02382794, -0.00742344],\n",
              "        ...,\n",
              "        [-0.03316883,  0.00834409, -0.03312489, ..., -0.04754315,\n",
              "          0.04567051,  0.01125991],\n",
              "        [-0.03316883,  0.00834409, -0.03312489, ..., -0.04754315,\n",
              "          0.04567051,  0.01125991],\n",
              "        [-0.03316883,  0.00834409, -0.03312489, ..., -0.04754315,\n",
              "          0.04567051,  0.01125991]]], dtype=float32)>"
            ]
          },
          "metadata": {},
          "execution_count": 30
        }
      ],
      "source": [
        "# Get a random sentence from the training set\n",
        "random_sentence = random.choice(train_sentences)\n",
        "print(f\"Original text:\\n {random_sentence}\\\n",
        "      \\n\\nEmbedded version:\")\n",
        "#Embed the random sentence (turn it into dense vectors of fixed size)\n",
        "sample_embed = embedding(text_vectorizer([random_sentence]))\n",
        "sample_embed"
      ]
    },
    {
      "cell_type": "code",
      "execution_count": null,
      "metadata": {
        "id": "-KJ1urU5Gqq5",
        "colab": {
          "base_uri": "https://localhost:8080/"
        },
        "outputId": "283b925f-a75f-4c58-f656-0982593e2c08"
      },
      "outputs": [
        {
          "output_type": "execute_result",
          "data": {
            "text/plain": [
              "(<tf.Tensor: shape=(128,), dtype=float32, numpy=\n",
              " array([ 0.00139808,  0.0149509 ,  0.0112424 , -0.00028478,  0.02139838,\n",
              "         0.01149471, -0.04550046,  0.00166316, -0.02595401,  0.01655148,\n",
              "         0.01493764, -0.03932613, -0.03537035, -0.00388496,  0.03705777,\n",
              "        -0.00059625, -0.04977293, -0.00785143,  0.00669362, -0.01270157,\n",
              "        -0.04028604, -0.03909478, -0.0339434 , -0.01610255,  0.03262153,\n",
              "         0.01087911,  0.00241563,  0.00726486, -0.04225221,  0.03576789,\n",
              "         0.04515335, -0.0005051 , -0.03577537, -0.03569006,  0.04764357,\n",
              "         0.04820139,  0.01597405,  0.00877146,  0.00457153, -0.02181919,\n",
              "         0.01649021, -0.01653936, -0.04513667, -0.00067409, -0.04988798,\n",
              "         0.04732056, -0.03345592,  0.04327866, -0.04212359,  0.00719696,\n",
              "        -0.01480407, -0.00026495, -0.00594806,  0.01673048,  0.01552106,\n",
              "         0.00380768,  0.02797597, -0.02792341, -0.03525795,  0.02020236,\n",
              "         0.02074139, -0.03231917,  0.01383617, -0.01646634, -0.03956778,\n",
              "        -0.01322975,  0.00768172, -0.00659512, -0.01306776,  0.02819199,\n",
              "         0.04341961, -0.00372441, -0.02941873, -0.00686537,  0.02440521,\n",
              "         0.03210738,  0.04799707, -0.03106539,  0.04024963,  0.03421893,\n",
              "         0.02759058, -0.01484659,  0.0106074 ,  0.02581822,  0.01647211,\n",
              "         0.0296016 , -0.01571584,  0.00139582, -0.01848019, -0.02506559,\n",
              "        -0.02803   , -0.03565762,  0.0421519 ,  0.02838374, -0.03855591,\n",
              "        -0.01808491,  0.0112481 ,  0.03309058,  0.04304225, -0.02214512,\n",
              "        -0.00172335,  0.03558585,  0.0344373 , -0.04486421,  0.0397285 ,\n",
              "        -0.00994597,  0.02783332, -0.02114487, -0.03633964,  0.04438904,\n",
              "         0.02425239, -0.04233955,  0.00912899,  0.03319928, -0.03294601,\n",
              "         0.0497134 , -0.04741528,  0.0344978 ,  0.00327841,  0.02426792,\n",
              "         0.01877281, -0.02738768,  0.04525722, -0.02741431, -0.03532993,\n",
              "         0.039124  ,  0.04808127, -0.02905122], dtype=float32)>,\n",
              " TensorShape([128]),\n",
              " '@abcnews A nuclear bomb is a terrible weapon!!')"
            ]
          },
          "metadata": {},
          "execution_count": 31
        }
      ],
      "source": [
        "# Check out a single token's embedding\n",
        "sample_embed[0][0], sample_embed[0][0].shape, random_sentence"
      ]
    },
    {
      "cell_type": "markdown",
      "metadata": {
        "id": "NwyA4ZjpIlhr"
      },
      "source": [
        "##**Modelling a text dataset (running a series of experiments)**\n",
        "\n",
        "We'll start with a baseline and move on from there.\n",
        "\n",
        "* Model 0: Naive Bayes (baseline), this is from Sklearn ML map: https://scikit-learn.org/stable/tutorial/text_analytics/working_with_text_data.html\n",
        "* Model 1: Feed-forward neural network (dense model)\n",
        "* Model 2: LSTM model (RNN)\n",
        "* Model 3: GRU model (RNN)\n",
        "* Model 4: Bidirectional-LSTM model (RNN)\n",
        "* Model 5: 1D Convolutional Neural Network (CNN)\n",
        "* Model 6: Tensorflow Hub Pretrained Feature Extractor (using tranfer learning for NLP)\n",
        "* Model 7: Same as model 6 with 10% of training data\n",
        "\n",
        "How are we going to approach all of this?\n",
        "\n",
        "Use the standard steps in modelling with tensorflow:\n",
        "\n",
        "* Create a model\n",
        "* Build a model\n",
        "* Fit a model\n",
        "* Evauate a model\n",
        "\n"
      ]
    },
    {
      "cell_type": "markdown",
      "metadata": {
        "id": "Glep1HNeb9Rs"
      },
      "source": [
        "##Model 0"
      ]
    },
    {
      "cell_type": "code",
      "execution_count": null,
      "metadata": {
        "id": "b0Zxe-I1HbCf",
        "colab": {
          "base_uri": "https://localhost:8080/"
        },
        "outputId": "f6a5d34d-e4b1-48c1-a10a-537a71394874"
      },
      "outputs": [
        {
          "output_type": "execute_result",
          "data": {
            "text/plain": [
              "Pipeline(steps=[('tfidf', TfidfVectorizer()), ('clf', MultinomialNB())])"
            ]
          },
          "metadata": {},
          "execution_count": 32
        }
      ],
      "source": [
        "# Model 0: Getting a baseline\n",
        "from sklearn.feature_extraction.text import TfidfVectorizer\n",
        "from sklearn.naive_bayes import MultinomialNB\n",
        "from sklearn.pipeline import Pipeline\n",
        "\n",
        "# Create tokenization and modelling pipeline \n",
        "model_0 = Pipeline([\n",
        "                    (\"tfidf\", TfidfVectorizer()), # Convert words to numbers using tfidf\n",
        "                    (\"clf\", MultinomialNB()), # model the text\n",
        "])\n",
        "\n",
        "# Fit the pipeline to the training data\n",
        "model_0.fit(train_sentences, train_labels)"
      ]
    },
    {
      "cell_type": "code",
      "execution_count": null,
      "metadata": {
        "id": "q1kHIPlEOaQ7",
        "colab": {
          "base_uri": "https://localhost:8080/"
        },
        "outputId": "99b412ec-b959-48aa-a392-fa25344703ea"
      },
      "outputs": [
        {
          "output_type": "stream",
          "name": "stdout",
          "text": [
            "Our baseline model achieves an accuracy of: 79.27%\n"
          ]
        }
      ],
      "source": [
        "# Evaluate our baseline model\n",
        "baseline_score = model_0.score(val_sentences,val_labels)\n",
        "print(f\"Our baseline model achieves an accuracy of: {baseline_score*100:.2f}%\")"
      ]
    },
    {
      "cell_type": "code",
      "execution_count": null,
      "metadata": {
        "id": "343bhX5cO_7V",
        "colab": {
          "base_uri": "https://localhost:8080/"
        },
        "outputId": "6b81e870-d757-43ff-e2c8-db3d219fc92e"
      },
      "outputs": [
        {
          "output_type": "stream",
          "name": "stdout",
          "text": [
            "['DFR EP016 Monthly Meltdown - On Dnbheaven 2015.08.06 http://t.co/EjKRf8N8A8 #Drum and Bass #heavy #nasty http://t.co/SPHWE6wFI5'\n",
            " 'FedEx no longer to transport bioterror germs in wake of anthrax lab mishaps http://t.co/qZQc8WWwcN via @usatoday'\n",
            " 'Gunmen kill four in El Salvador bus attack: Suspected Salvadoran gang members killed four people and wounded s... http://t.co/CNtwB6ScZj'\n",
            " '@camilacabello97 Internally and externally screaming'\n",
            " 'Radiation emergency #preparedness starts with knowing to: get inside stay inside and stay tuned http://t.co/RFFPqBAz2F via @CDCgov'\n",
            " 'Investigators rule catastrophic structural failure resulted in 2014 Virg.. Related Articles: http://t.co/Cy1LFeNyV8'\n",
            " 'How the West was burned: Thousands of wildfires ablaze in #California alone http://t.co/iCSjGZ9tE1 #climate #energy http://t.co/9FxmN0l0Bd'\n",
            " \"Map: Typhoon Soudelor's predicted path as it approaches Taiwan; expected to make landfall over southern China by S\\x89Û_ http://t.co/JDVSGVhlIs\"\n",
            " '\\x89Ûª93 blasts accused Yeda Yakub dies in Karachi of heart attack http://t.co/mfKqyxd8XG #Mumbai'\n",
            " 'My ears are bleeding  https://t.co/k5KnNwugwT']\n"
          ]
        },
        {
          "output_type": "execute_result",
          "data": {
            "text/plain": [
              "array([1, 1, 1, 0, 0, 1, 1, 1, 1, 0])"
            ]
          },
          "metadata": {},
          "execution_count": 34
        }
      ],
      "source": [
        "# Make predictions\n",
        "baseline_preds = model_0.predict(val_sentences)\n",
        "print(val_sentences[:10])\n",
        "baseline_preds[:10]"
      ]
    },
    {
      "cell_type": "code",
      "execution_count": null,
      "metadata": {
        "id": "ZJFgH8qFPdmH"
      },
      "outputs": [],
      "source": [
        "# Creating an evaluation function for our model experiments\n",
        "from sklearn.metrics import accuracy_score, precision_recall_fscore_support\n",
        "\n",
        "def calculate_results(y_true, y_pred):\n",
        "  \"\"\"\n",
        "  Calculates model accuracy, precision, recall and f1 score of a binary classification model\n",
        "  \"\"\"\n",
        "  # Calculate model accuracy\n",
        "  model_accuracy = accuracy_score(y_true, y_pred) * 100\n",
        "  # Calculate model precision, recall and f1-score using \"weighted\" average\n",
        "  model_precision, model_recall, model_f1, _ = precision_recall_fscore_support(y_true, y_pred, average=\"weighted\")\n",
        "  model_results = {\"accuracy\": model_accuracy,\n",
        "                   \"precision\": model_precision,\n",
        "                   \"recall\": model_recall,\n",
        "                   \"f1\":model_f1}\n",
        "  return model_results"
      ]
    },
    {
      "cell_type": "markdown",
      "source": [
        "![photo_2022-06-04_20-31-16.jpg](data:image/jpeg;base64,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)"
      ],
      "metadata": {
        "id": "PjFHITyqVHz_"
      }
    },
    {
      "cell_type": "code",
      "execution_count": null,
      "metadata": {
        "id": "gqIR5RK6emBv",
        "colab": {
          "base_uri": "https://localhost:8080/"
        },
        "outputId": "47b482c3-31b8-44e7-a331-491d9bac08ae"
      },
      "outputs": [
        {
          "output_type": "execute_result",
          "data": {
            "text/plain": [
              "{'accuracy': 79.26509186351706,\n",
              " 'f1': 0.7862189758049549,\n",
              " 'precision': 0.8111390004213173,\n",
              " 'recall': 0.7926509186351706}"
            ]
          },
          "metadata": {},
          "execution_count": 36
        }
      ],
      "source": [
        "baseline_results = calculate_results(y_true=val_labels, \n",
        "                                     y_pred=baseline_preds)\n",
        "baseline_results"
      ]
    },
    {
      "cell_type": "markdown",
      "metadata": {
        "id": "NerKDhR_4DVd"
      },
      "source": [
        "##Model 1: Dense model"
      ]
    },
    {
      "cell_type": "code",
      "execution_count": null,
      "metadata": {
        "id": "y8DxXlkt5RDh"
      },
      "outputs": [],
      "source": [
        "!mkdir model_logs"
      ]
    },
    {
      "cell_type": "code",
      "execution_count": null,
      "metadata": {
        "id": "9dhYdZbXe708"
      },
      "outputs": [],
      "source": [
        "# Create a tensorboard callback (need to create new one for each model)\n",
        "from helper_functions import create_tensorboard_callback\n",
        "\n",
        "# Create a directory to save Tensorboard logs\n",
        "SAVE_DIR =\"/content/model_logs\""
      ]
    },
    {
      "cell_type": "code",
      "execution_count": null,
      "metadata": {
        "id": "I8uo1gHv5EMI"
      },
      "outputs": [],
      "source": [
        "# Build model with Functional API\n",
        "from tensorflow.keras.layers import Input, Dense\n",
        "inputs = Input(shape=(1,), dtype=tf.string) # inputs are 1-dimensional strings\n",
        "x = text_vectorizer(inputs) # turn input text into numbers\n",
        "x = embedding(x) # create an embedding of the numberized inputs\n",
        "x = layers.GlobalAveragePooling1D()(x)\n",
        "outputs = Dense(1, activation = \"sigmoid\")(x)\n",
        "model_1 = tf.keras.Model(inputs, outputs, name=\"model_1_dense\")"
      ]
    },
    {
      "cell_type": "code",
      "execution_count": null,
      "metadata": {
        "id": "rqe8SSZd6B9n",
        "colab": {
          "base_uri": "https://localhost:8080/"
        },
        "outputId": "aa83b4a6-30f8-4f93-9d45-5ec726301e57"
      },
      "outputs": [
        {
          "output_type": "stream",
          "name": "stdout",
          "text": [
            "Model: \"model_1_dense\"\n",
            "_________________________________________________________________\n",
            " Layer (type)                Output Shape              Param #   \n",
            "=================================================================\n",
            " input_1 (InputLayer)        [(None, 1)]               0         \n",
            "                                                                 \n",
            " text_vectorization_1 (TextV  (None, 15)               0         \n",
            " ectorization)                                                   \n",
            "                                                                 \n",
            " embedding (Embedding)       (None, 15, 128)           1280000   \n",
            "                                                                 \n",
            " global_average_pooling1d (G  (None, 128)              0         \n",
            " lobalAveragePooling1D)                                          \n",
            "                                                                 \n",
            " dense (Dense)               (None, 1)                 129       \n",
            "                                                                 \n",
            "=================================================================\n",
            "Total params: 1,280,129\n",
            "Trainable params: 1,280,129\n",
            "Non-trainable params: 0\n",
            "_________________________________________________________________\n"
          ]
        }
      ],
      "source": [
        "model_1.summary()"
      ]
    },
    {
      "cell_type": "code",
      "execution_count": null,
      "metadata": {
        "id": "3r8OfWSG6kEB"
      },
      "outputs": [],
      "source": [
        "# Compile model\n",
        "model_1.compile(loss=\"binary_crossentropy\",\n",
        "                optimizer=tf.keras.optimizers.Adam(),\n",
        "                metrics=['accuracy'])"
      ]
    },
    {
      "cell_type": "code",
      "execution_count": null,
      "metadata": {
        "id": "2MaOI-WR7Zty",
        "colab": {
          "base_uri": "https://localhost:8080/"
        },
        "outputId": "5004eaab-2473-4205-9bb9-d23630d4c2fa"
      },
      "outputs": [
        {
          "output_type": "stream",
          "name": "stdout",
          "text": [
            "Saving TensorBoard log files to: /content/model_logs/model_1_dense/20220604-145855\n",
            "Epoch 1/5\n",
            "215/215 [==============================] - 10s 11ms/step - loss: 0.6130 - accuracy: 0.6834 - val_loss: 0.5350 - val_accuracy: 0.7559\n",
            "Epoch 2/5\n",
            "215/215 [==============================] - 2s 9ms/step - loss: 0.4431 - accuracy: 0.8143 - val_loss: 0.4704 - val_accuracy: 0.7835\n",
            "Epoch 3/5\n",
            "215/215 [==============================] - 2s 10ms/step - loss: 0.3487 - accuracy: 0.8619 - val_loss: 0.4560 - val_accuracy: 0.7966\n",
            "Epoch 4/5\n",
            "215/215 [==============================] - 2s 8ms/step - loss: 0.2851 - accuracy: 0.8897 - val_loss: 0.4636 - val_accuracy: 0.7913\n",
            "Epoch 5/5\n",
            "215/215 [==============================] - 2s 9ms/step - loss: 0.2390 - accuracy: 0.9098 - val_loss: 0.4868 - val_accuracy: 0.7887\n"
          ]
        }
      ],
      "source": [
        "model_1_history = model_1.fit(x=train_sentences,\n",
        "                              y=train_labels,\n",
        "                              epochs = 5,\n",
        "                              validation_data=(val_sentences, val_labels),\n",
        "                              callbacks=[create_tensorboard_callback(dir_name=SAVE_DIR,\n",
        "                                                                     experiment_name=\"model_1_dense\")])"
      ]
    },
    {
      "cell_type": "code",
      "execution_count": null,
      "metadata": {
        "colab": {
          "base_uri": "https://localhost:8080/"
        },
        "id": "Y13t29-HoLrg",
        "outputId": "034bafd9-9663-4810-8a70-41791d6fd0f8"
      },
      "outputs": [
        {
          "output_type": "execute_result",
          "data": {
            "text/plain": [
              "(762, 1)"
            ]
          },
          "metadata": {},
          "execution_count": 43
        }
      ],
      "source": [
        "# Make some predictions and evaluate those\n",
        "model_1_pred_probs = model_1.predict(val_sentences)\n",
        "model_1_pred_probs.shape"
      ]
    },
    {
      "cell_type": "code",
      "execution_count": null,
      "metadata": {
        "colab": {
          "base_uri": "https://localhost:8080/"
        },
        "id": "KiBhN5h5otKq",
        "outputId": "2be185e7-161d-4ade-e100-43f04a577e58"
      },
      "outputs": [
        {
          "output_type": "execute_result",
          "data": {
            "text/plain": [
              "array(['DFR EP016 Monthly Meltdown - On Dnbheaven 2015.08.06 http://t.co/EjKRf8N8A8 #Drum and Bass #heavy #nasty http://t.co/SPHWE6wFI5',\n",
              "       'FedEx no longer to transport bioterror germs in wake of anthrax lab mishaps http://t.co/qZQc8WWwcN via @usatoday',\n",
              "       'Gunmen kill four in El Salvador bus attack: Suspected Salvadoran gang members killed four people and wounded s... http://t.co/CNtwB6ScZj',\n",
              "       '@camilacabello97 Internally and externally screaming',\n",
              "       'Radiation emergency #preparedness starts with knowing to: get inside stay inside and stay tuned http://t.co/RFFPqBAz2F via @CDCgov',\n",
              "       'Investigators rule catastrophic structural failure resulted in 2014 Virg.. Related Articles: http://t.co/Cy1LFeNyV8',\n",
              "       'How the West was burned: Thousands of wildfires ablaze in #California alone http://t.co/iCSjGZ9tE1 #climate #energy http://t.co/9FxmN0l0Bd',\n",
              "       \"Map: Typhoon Soudelor's predicted path as it approaches Taiwan; expected to make landfall over southern China by S\\x89Û_ http://t.co/JDVSGVhlIs\",\n",
              "       '\\x89Ûª93 blasts accused Yeda Yakub dies in Karachi of heart attack http://t.co/mfKqyxd8XG #Mumbai',\n",
              "       'My ears are bleeding  https://t.co/k5KnNwugwT'], dtype=object)"
            ]
          },
          "metadata": {},
          "execution_count": 44
        }
      ],
      "source": [
        "val_sentences[:10]"
      ]
    },
    {
      "cell_type": "code",
      "execution_count": null,
      "metadata": {
        "colab": {
          "base_uri": "https://localhost:8080/"
        },
        "id": "ZqIhw4bLonAR",
        "outputId": "2f1a974d-cfda-46a7-99d9-6cb879f24be4"
      },
      "outputs": [
        {
          "output_type": "execute_result",
          "data": {
            "text/plain": [
              "array([[0.32963762],\n",
              "       [0.78082854],\n",
              "       [0.99718374],\n",
              "       [0.09400803],\n",
              "       [0.11013547],\n",
              "       [0.93221694],\n",
              "       [0.90730166],\n",
              "       [0.9930199 ],\n",
              "       [0.96359015],\n",
              "       [0.21999726]], dtype=float32)"
            ]
          },
          "metadata": {},
          "execution_count": 45
        }
      ],
      "source": [
        "model_1_pred_probs[:10]"
      ]
    },
    {
      "cell_type": "code",
      "execution_count": null,
      "metadata": {
        "colab": {
          "base_uri": "https://localhost:8080/"
        },
        "id": "yUst4eeOoqqP",
        "outputId": "cbcb6714-1109-4931-c014-c8532a8267cf"
      },
      "outputs": [
        {
          "output_type": "execute_result",
          "data": {
            "text/plain": [
              "<tf.Tensor: shape=(20,), dtype=float32, numpy=\n",
              "array([0., 1., 1., 0., 0., 1., 1., 1., 1., 0., 0., 1., 0., 0., 0., 0., 0.,\n",
              "       0., 0., 1.], dtype=float32)>"
            ]
          },
          "metadata": {},
          "execution_count": 46
        }
      ],
      "source": [
        "# Convert model prediction probabilities to label forms\n",
        "model_1_preds = tf.squeeze(tf.round(model_1_pred_probs))\n",
        "model_1_preds[:20]"
      ]
    },
    {
      "cell_type": "code",
      "execution_count": null,
      "metadata": {
        "colab": {
          "base_uri": "https://localhost:8080/"
        },
        "id": "WoSlvxxCppJ9",
        "outputId": "dda827af-8187-447f-9730-4c7ff1c186b5"
      },
      "outputs": [
        {
          "output_type": "execute_result",
          "data": {
            "text/plain": [
              "{'accuracy': 78.87139107611549,\n",
              " 'f1': 0.7850561936710079,\n",
              " 'precision': 0.7958623979922417,\n",
              " 'recall': 0.7887139107611548}"
            ]
          },
          "metadata": {},
          "execution_count": 47
        }
      ],
      "source": [
        "# Calculate our model_1 results\n",
        "model_1_results = calculate_results(y_true= val_labels,\n",
        "                                    y_pred=model_1_preds)\n",
        "model_1_results"
      ]
    },
    {
      "cell_type": "markdown",
      "metadata": {
        "id": "HK_uGa08rX4i"
      },
      "source": [
        "##Visualizing learned embeddings"
      ]
    },
    {
      "cell_type": "code",
      "execution_count": null,
      "metadata": {
        "colab": {
          "base_uri": "https://localhost:8080/"
        },
        "id": "HojNapkSqJDG",
        "outputId": "1da88557-36dd-4c9c-85f2-3041e64b27ca"
      },
      "outputs": [
        {
          "output_type": "execute_result",
          "data": {
            "text/plain": [
              "(10000, ['', '[UNK]', 'the', 'a', 'in', 'to', 'of', 'and', 'i', 'is'])"
            ]
          },
          "metadata": {},
          "execution_count": 48
        }
      ],
      "source": [
        "# Get the vocabulary from the vectorization layer\n",
        "words_in_vocab = text_vectorizer.get_vocabulary()\n",
        "len(words_in_vocab), words_in_vocab[:10]"
      ]
    },
    {
      "cell_type": "code",
      "execution_count": null,
      "metadata": {
        "colab": {
          "base_uri": "https://localhost:8080/"
        },
        "id": "4FIWFJ3xty5Z",
        "outputId": "932e86b9-7867-4b11-b0d7-0678a5a3a7e0"
      },
      "outputs": [
        {
          "output_type": "stream",
          "name": "stdout",
          "text": [
            "Model: \"model_1_dense\"\n",
            "_________________________________________________________________\n",
            " Layer (type)                Output Shape              Param #   \n",
            "=================================================================\n",
            " input_1 (InputLayer)        [(None, 1)]               0         \n",
            "                                                                 \n",
            " text_vectorization_1 (TextV  (None, 15)               0         \n",
            " ectorization)                                                   \n",
            "                                                                 \n",
            " embedding (Embedding)       (None, 15, 128)           1280000   \n",
            "                                                                 \n",
            " global_average_pooling1d (G  (None, 128)              0         \n",
            " lobalAveragePooling1D)                                          \n",
            "                                                                 \n",
            " dense (Dense)               (None, 1)                 129       \n",
            "                                                                 \n",
            "=================================================================\n",
            "Total params: 1,280,129\n",
            "Trainable params: 1,280,129\n",
            "Non-trainable params: 0\n",
            "_________________________________________________________________\n"
          ]
        }
      ],
      "source": [
        "model_1.summary()"
      ]
    },
    {
      "cell_type": "code",
      "execution_count": null,
      "metadata": {
        "colab": {
          "base_uri": "https://localhost:8080/"
        },
        "id": "Ej77NaRss0NK",
        "outputId": "bc03ad5d-b7f3-4c30-b51b-e834dcb2c726"
      },
      "outputs": [
        {
          "output_type": "stream",
          "name": "stdout",
          "text": [
            "(10000, 128)\n"
          ]
        }
      ],
      "source": [
        "# Get the weight matrix of embedding layer\n",
        "# (These are the numerical representations of each token in our training data)\n",
        "embed_weights = model_1.get_layer(\"embedding\").get_weights()[0]\n",
        "print(embed_weights.shape)"
      ]
    },
    {
      "cell_type": "markdown",
      "metadata": {
        "id": "yQShL-TEutSZ"
      },
      "source": [
        "Now we've got the embedding matrix our model has learned to represent out tokens, let's see how we can visualize it.\n",
        "\n",
        "To do so, Tensorflow has a handy tool called projector: https://projector.tensorflow.org/\n",
        "\n",
        "And Tensorflow also has an incredible guide on word embeddings themselves: https://www.tensorflow.org/text/guide/word_embeddings"
      ]
    },
    {
      "cell_type": "code",
      "execution_count": null,
      "metadata": {
        "id": "iYQA-8eetv3K"
      },
      "outputs": [],
      "source": [
        "# Create embedding files (we got this from TensorFlow's word embeddings documentation)\n",
        "import io\n",
        "out_v = io.open('vectors.tsv', 'w', encoding='utf-8')\n",
        "out_m = io.open('metadata.tsv', 'w', encoding='utf-8')\n",
        "\n",
        "for index, word in enumerate(words_in_vocab):\n",
        "  if index == 0:\n",
        "    continue  # skip 0, it's padding.\n",
        "  vec = embed_weights[index]\n",
        "  out_v.write('\\t'.join([str(x) for x in vec]) + \"\\n\")\n",
        "  out_m.write(word + \"\\n\")\n",
        "out_v.close()\n",
        "out_m.close()"
      ]
    },
    {
      "cell_type": "code",
      "execution_count": null,
      "metadata": {
        "id": "cs8PCn5AurkB"
      },
      "outputs": [],
      "source": [
        "# Download files from Colab to upload to projector\n",
        "# from google.colab import files\n",
        "# try:\n",
        "#   files.download('vectors.tsv')\n",
        "#   files.download('metadata.tsv')\n",
        "# except Exception:\n",
        "#   pass"
      ]
    },
    {
      "cell_type": "markdown",
      "metadata": {
        "id": "i1Wrtp2AavfP"
      },
      "source": [
        "## Recurrent Neural Network (RNN's)\n",
        "\n",
        "RNN's are useful for sequence data.\n",
        "\n",
        "The premise of recurrent neural network is to use the representation of a previous input to aid the representation of a later input\n",
        "\n"
      ]
    },
    {
      "cell_type": "markdown",
      "metadata": {
        "id": "M0mWmzcEjAzx"
      },
      "source": [
        "## Model 2: LSTM\n",
        "\n",
        "LSTM = long short term memory (one of the most LSTM cells)\n",
        "\n",
        "Our structure of an RNN typically looks like this:\n",
        "\n",
        "```\n",
        "Input (text) -> Tokenize -> Embedding -> Layers (RNNs/dense) -> Output (label probability)\n",
        "```"
      ]
    },
    {
      "cell_type": "code",
      "execution_count": null,
      "metadata": {
        "colab": {
          "base_uri": "https://localhost:8080/"
        },
        "id": "OTq_OtFKa1hV",
        "outputId": "fc2033ad-e545-46d3-c6b4-0027e7bb9da2"
      },
      "outputs": [
        {
          "output_type": "stream",
          "name": "stdout",
          "text": [
            "(None, 15, 64)\n"
          ]
        }
      ],
      "source": [
        "# Create an LSTM model\n",
        "from tensorflow.keras import layers\n",
        "inputs = layers.Input(shape=(1,), dtype=\"string\")\n",
        "x = text_vectorizer(inputs)\n",
        "x = embedding(x)\n",
        "# print(x.shape)\n",
        "x = layers.LSTM(units=64, return_sequences=True)(x) # when you're creating multilayered RNNs you need to set return_sequences=True\n",
        "print(x.shape)\n",
        "x = layers.LSTM(64)(x)\n",
        "# print(x.shape)\n",
        "x = layers.Dense(64, activation = \"relu\")(x)\n",
        "outputs = layers.Dense(1, activation = \"sigmoid\")(x)\n",
        "model_2 = tf.keras.Model(inputs, outputs, name = \"model_2_LSTM\")"
      ]
    },
    {
      "cell_type": "code",
      "execution_count": null,
      "metadata": {
        "colab": {
          "base_uri": "https://localhost:8080/"
        },
        "id": "INU_Pp2ilEBd",
        "outputId": "ca1490b6-b357-4fa9-e4a0-12c900756daa"
      },
      "outputs": [
        {
          "output_type": "stream",
          "name": "stdout",
          "text": [
            "Model: \"model_2_LSTM\"\n",
            "_________________________________________________________________\n",
            " Layer (type)                Output Shape              Param #   \n",
            "=================================================================\n",
            " input_2 (InputLayer)        [(None, 1)]               0         \n",
            "                                                                 \n",
            " text_vectorization_1 (TextV  (None, 15)               0         \n",
            " ectorization)                                                   \n",
            "                                                                 \n",
            " embedding (Embedding)       (None, 15, 128)           1280000   \n",
            "                                                                 \n",
            " lstm (LSTM)                 (None, 15, 64)            49408     \n",
            "                                                                 \n",
            " lstm_1 (LSTM)               (None, 64)                33024     \n",
            "                                                                 \n",
            " dense_1 (Dense)             (None, 64)                4160      \n",
            "                                                                 \n",
            " dense_2 (Dense)             (None, 1)                 65        \n",
            "                                                                 \n",
            "=================================================================\n",
            "Total params: 1,366,657\n",
            "Trainable params: 1,366,657\n",
            "Non-trainable params: 0\n",
            "_________________________________________________________________\n"
          ]
        }
      ],
      "source": [
        "model_2.summary()"
      ]
    },
    {
      "cell_type": "code",
      "execution_count": null,
      "metadata": {
        "id": "xr2HHwNw0VMm"
      },
      "outputs": [],
      "source": [
        "# Compile the model\n",
        "model_2.compile(loss=\"binary_crossentropy\",\n",
        "                optimizer=tf.keras.optimizers.Adam(),\n",
        "                metrics=['accuracy'])"
      ]
    },
    {
      "cell_type": "code",
      "execution_count": null,
      "metadata": {
        "colab": {
          "base_uri": "https://localhost:8080/"
        },
        "id": "oMXGnS0T000n",
        "outputId": "8b17ba6a-2c0d-4426-a303-d5ccf03d109d"
      },
      "outputs": [
        {
          "output_type": "stream",
          "name": "stdout",
          "text": [
            "Saving TensorBoard log files to: /content/model_logs/model_2_LSTM/20220604-145916\n",
            "Epoch 1/5\n",
            "215/215 [==============================] - 9s 13ms/step - loss: 0.2249 - accuracy: 0.9216 - val_loss: 0.6075 - val_accuracy: 0.7743\n",
            "Epoch 2/5\n",
            "215/215 [==============================] - 2s 9ms/step - loss: 0.1611 - accuracy: 0.9399 - val_loss: 0.6081 - val_accuracy: 0.7795\n",
            "Epoch 3/5\n",
            "215/215 [==============================] - 2s 9ms/step - loss: 0.1324 - accuracy: 0.9523 - val_loss: 0.7395 - val_accuracy: 0.7808\n",
            "Epoch 4/5\n",
            "215/215 [==============================] - 2s 9ms/step - loss: 0.1081 - accuracy: 0.9574 - val_loss: 0.8551 - val_accuracy: 0.7769\n",
            "Epoch 5/5\n",
            "215/215 [==============================] - 2s 9ms/step - loss: 0.0846 - accuracy: 0.9675 - val_loss: 1.0227 - val_accuracy: 0.7703\n"
          ]
        }
      ],
      "source": [
        "# Fit the model\n",
        "model_2_history = model_2.fit(x=train_sentences,\n",
        "                              y=train_labels,\n",
        "                              epochs = 5,\n",
        "                              validation_data=(val_sentences, val_labels),\n",
        "                              callbacks=[create_tensorboard_callback(dir_name=SAVE_DIR,\n",
        "                                                                     experiment_name=\"model_2_LSTM\")])"
      ]
    },
    {
      "cell_type": "code",
      "execution_count": null,
      "metadata": {
        "colab": {
          "base_uri": "https://localhost:8080/"
        },
        "id": "cMUQnekP1J6l",
        "outputId": "e9c3f1e5-a4b7-46ee-b6b4-71dd98409ea8"
      },
      "outputs": [
        {
          "output_type": "execute_result",
          "data": {
            "text/plain": [
              "array([[5.0874893e-03],\n",
              "       [8.4920359e-01],\n",
              "       [9.9997509e-01],\n",
              "       [2.1882206e-02],\n",
              "       [1.7788500e-04],\n",
              "       [9.9970347e-01],\n",
              "       [9.5728260e-01],\n",
              "       [9.9998939e-01],\n",
              "       [9.9996471e-01],\n",
              "       [7.5233477e-01]], dtype=float32)"
            ]
          },
          "metadata": {},
          "execution_count": 57
        }
      ],
      "source": [
        "# make predictions with LSTM model\n",
        "model_2_pred_probs = model_2.predict(val_sentences)\n",
        "model_2_pred_probs[:10]"
      ]
    },
    {
      "cell_type": "code",
      "execution_count": null,
      "metadata": {
        "colab": {
          "base_uri": "https://localhost:8080/"
        },
        "id": "k9Qlzxwy1Z9a",
        "outputId": "a66de9cb-0623-48d7-8319-7c2e1ef59262"
      },
      "outputs": [
        {
          "output_type": "execute_result",
          "data": {
            "text/plain": [
              "<tf.Tensor: shape=(10,), dtype=float32, numpy=array([0., 1., 1., 0., 0., 1., 1., 1., 1., 1.], dtype=float32)>"
            ]
          },
          "metadata": {},
          "execution_count": 58
        }
      ],
      "source": [
        "# Convert model 2 pred probs to labels\n",
        "model_2_preds = tf.squeeze(tf.round(model_2_pred_probs))\n",
        "model_2_preds[:10]"
      ]
    },
    {
      "cell_type": "code",
      "execution_count": null,
      "metadata": {
        "colab": {
          "base_uri": "https://localhost:8080/"
        },
        "id": "My_Q4i2F1snJ",
        "outputId": "1b60dcd5-6b9d-4011-d57a-f8b02d85a73c"
      },
      "outputs": [
        {
          "output_type": "execute_result",
          "data": {
            "text/plain": [
              "{'accuracy': 77.03412073490814,\n",
              " 'f1': 0.7683227325217538,\n",
              " 'precision': 0.7718252603398367,\n",
              " 'recall': 0.7703412073490814}"
            ]
          },
          "metadata": {},
          "execution_count": 59
        }
      ],
      "source": [
        "# Calculate model 2 results\n",
        "model_2_results = calculate_results(y_true = val_labels,\n",
        "                                    y_pred = model_2_preds)\n",
        "model_2_results"
      ]
    },
    {
      "cell_type": "code",
      "execution_count": null,
      "metadata": {
        "colab": {
          "base_uri": "https://localhost:8080/"
        },
        "id": "zw3IbHla2EJ7",
        "outputId": "e9527ad8-d1f2-489f-a1ba-e886b73bf519"
      },
      "outputs": [
        {
          "output_type": "execute_result",
          "data": {
            "text/plain": [
              "{'accuracy': 79.26509186351706,\n",
              " 'f1': 0.7862189758049549,\n",
              " 'precision': 0.8111390004213173,\n",
              " 'recall': 0.7926509186351706}"
            ]
          },
          "metadata": {},
          "execution_count": 60
        }
      ],
      "source": [
        "baseline_results"
      ]
    },
    {
      "cell_type": "markdown",
      "metadata": {
        "id": "mAVcowMG28A7"
      },
      "source": [
        "## Model 3: GRU\n",
        "\n",
        "Another popular and effective RNN component is the GRU or gated recurrent unit.\n",
        "\n",
        "The GRU cell has simillar features to an LSTM cell but has less parameters."
      ]
    },
    {
      "cell_type": "code",
      "execution_count": null,
      "metadata": {
        "colab": {
          "base_uri": "https://localhost:8080/"
        },
        "id": "h5eXSuLo3PML",
        "outputId": "a05a2f82-d466-45f6-e8bc-8f8d5866f63c"
      },
      "outputs": [
        {
          "output_type": "stream",
          "name": "stdout",
          "text": [
            "(None, 15, 128)\n",
            "(None, 15, 64)\n",
            "(None, 15, 64)\n",
            "(None, 64)\n",
            "(None, 64)\n"
          ]
        }
      ],
      "source": [
        "# Build an RNN using the GRU cell\n",
        "from tensorflow.keras import layers\n",
        "inputs = layers.Input(shape=(1,), dtype=tf.string)\n",
        "x = text_vectorizer(inputs)\n",
        "x = embedding(x)\n",
        "print(x.shape)\n",
        "x = layers.GRU(64, return_sequences=True)(x)\n",
        "print(x.shape)\n",
        "x = layers.LSTM(64, return_sequences=True)(x)\n",
        "print(x.shape)\n",
        "x = layers.GRU(64)(x)\n",
        "print(x.shape)\n",
        "x = layers.Dense(64, activation=\"relu\")(x)\n",
        "print(x.shape)\n",
        "# x = layers.GlobalAveragePooling1D()(x)\n",
        "outputs = layers.Dense(1, activation = \"sigmoid\")(x)\n",
        "model_3 = tf.keras.Model(inputs, outputs, name = \"model_3_GRU\")"
      ]
    },
    {
      "cell_type": "code",
      "execution_count": null,
      "metadata": {
        "colab": {
          "base_uri": "https://localhost:8080/"
        },
        "id": "xtiy0pd655TM",
        "outputId": "1546d0ec-2339-46e8-fc43-2a95b6a8c3cc"
      },
      "outputs": [
        {
          "output_type": "stream",
          "name": "stdout",
          "text": [
            "Model: \"model_3_GRU\"\n",
            "_________________________________________________________________\n",
            " Layer (type)                Output Shape              Param #   \n",
            "=================================================================\n",
            " input_3 (InputLayer)        [(None, 1)]               0         \n",
            "                                                                 \n",
            " text_vectorization_1 (TextV  (None, 15)               0         \n",
            " ectorization)                                                   \n",
            "                                                                 \n",
            " embedding (Embedding)       (None, 15, 128)           1280000   \n",
            "                                                                 \n",
            " gru (GRU)                   (None, 15, 64)            37248     \n",
            "                                                                 \n",
            " lstm_2 (LSTM)               (None, 15, 64)            33024     \n",
            "                                                                 \n",
            " gru_1 (GRU)                 (None, 64)                24960     \n",
            "                                                                 \n",
            " dense_3 (Dense)             (None, 64)                4160      \n",
            "                                                                 \n",
            " dense_4 (Dense)             (None, 1)                 65        \n",
            "                                                                 \n",
            "=================================================================\n",
            "Total params: 1,379,457\n",
            "Trainable params: 1,379,457\n",
            "Non-trainable params: 0\n",
            "_________________________________________________________________\n"
          ]
        }
      ],
      "source": [
        "model_3.summary()"
      ]
    },
    {
      "cell_type": "code",
      "execution_count": null,
      "metadata": {
        "id": "-cdB7Hwu6sHi"
      },
      "outputs": [],
      "source": [
        "# Compile the model\n",
        "model_3.compile(loss=\"binary_crossentropy\",\n",
        "                optimizer = tf.keras.optimizers.Adam(),\n",
        "                metrics=[\"accuracy\"])"
      ]
    },
    {
      "cell_type": "code",
      "execution_count": null,
      "metadata": {
        "colab": {
          "base_uri": "https://localhost:8080/"
        },
        "id": "voFsFJet70gC",
        "outputId": "141c1446-73f6-4558-8fde-2d3aec329631"
      },
      "outputs": [
        {
          "output_type": "stream",
          "name": "stdout",
          "text": [
            "Saving TensorBoard log files to: /content/model_logs/model_3_GRU/20220604-145944\n",
            "Epoch 1/5\n",
            "215/215 [==============================] - 12s 19ms/step - loss: 0.1407 - accuracy: 0.9543 - val_loss: 0.9921 - val_accuracy: 0.7703\n",
            "Epoch 2/5\n",
            "215/215 [==============================] - 2s 10ms/step - loss: 0.0814 - accuracy: 0.9686 - val_loss: 1.0159 - val_accuracy: 0.7756\n",
            "Epoch 3/5\n",
            "215/215 [==============================] - 2s 11ms/step - loss: 0.0613 - accuracy: 0.9731 - val_loss: 1.3271 - val_accuracy: 0.7625\n",
            "Epoch 4/5\n",
            "215/215 [==============================] - 2s 11ms/step - loss: 0.0566 - accuracy: 0.9753 - val_loss: 1.5077 - val_accuracy: 0.7743\n",
            "Epoch 5/5\n",
            "215/215 [==============================] - 2s 11ms/step - loss: 0.0571 - accuracy: 0.9749 - val_loss: 1.2957 - val_accuracy: 0.7612\n"
          ]
        }
      ],
      "source": [
        "model_3_history = model_3.fit(x=train_sentences,\n",
        "                              y=train_labels,\n",
        "                              epochs = 5,\n",
        "                              validation_data=(val_sentences, val_labels),\n",
        "                              callbacks=[create_tensorboard_callback(dir_name=SAVE_DIR,\n",
        "                                                                     experiment_name=\"model_3_GRU\")])"
      ]
    },
    {
      "cell_type": "code",
      "execution_count": null,
      "metadata": {
        "colab": {
          "base_uri": "https://localhost:8080/"
        },
        "id": "bgLzmuuXIK0b",
        "outputId": "ca0b7489-accb-49f6-9d07-187a5427ef61"
      },
      "outputs": [
        {
          "output_type": "execute_result",
          "data": {
            "text/plain": [
              "array([[1.5768569e-02],\n",
              "       [6.4103407e-01],\n",
              "       [9.9997866e-01],\n",
              "       [2.6465341e-01],\n",
              "       [3.2938980e-05],\n",
              "       [9.9978846e-01],\n",
              "       [9.5101184e-01],\n",
              "       [9.9998713e-01],\n",
              "       [9.9997449e-01],\n",
              "       [8.1766385e-01]], dtype=float32)"
            ]
          },
          "metadata": {},
          "execution_count": 65
        }
      ],
      "source": [
        "# Make some predictions with our GRU model\n",
        "model_3_pred_probs = model_3.predict(val_sentences)\n",
        "model_3_pred_probs[:10]"
      ]
    },
    {
      "cell_type": "code",
      "execution_count": null,
      "metadata": {
        "colab": {
          "base_uri": "https://localhost:8080/"
        },
        "id": "Cg81s42NIob8",
        "outputId": "0fa95581-9fe7-4906-fffd-4da9fe19251b"
      },
      "outputs": [
        {
          "output_type": "execute_result",
          "data": {
            "text/plain": [
              "<tf.Tensor: shape=(10,), dtype=float32, numpy=array([0., 1., 1., 0., 0., 1., 1., 1., 1., 1.], dtype=float32)>"
            ]
          },
          "metadata": {},
          "execution_count": 66
        }
      ],
      "source": [
        "# Convert model 3 pred probs to labels\n",
        "model_3_preds = tf.squeeze(tf.round(model_3_pred_probs))\n",
        "model_3_preds[:10]"
      ]
    },
    {
      "cell_type": "code",
      "execution_count": null,
      "metadata": {
        "colab": {
          "base_uri": "https://localhost:8080/"
        },
        "id": "T4MqU3-EJB8t",
        "outputId": "b5c1d9c0-d608-4d9c-e783-7a646aec7b1b"
      },
      "outputs": [
        {
          "output_type": "execute_result",
          "data": {
            "text/plain": [
              "{'accuracy': 76.11548556430446,\n",
              " 'f1': 0.758712452353006,\n",
              " 'precision': 0.763026475717381,\n",
              " 'recall': 0.7611548556430446}"
            ]
          },
          "metadata": {},
          "execution_count": 67
        }
      ],
      "source": [
        "# Calculate model 3 results\n",
        "model_3_results = calculate_results(y_true=val_labels,\n",
        "                                    y_pred=model_3_preds)\n",
        "model_3_results"
      ]
    },
    {
      "cell_type": "code",
      "execution_count": null,
      "metadata": {
        "colab": {
          "base_uri": "https://localhost:8080/"
        },
        "id": "4m1WnkaSJVCV",
        "outputId": "400e8bea-dd90-4954-9cb9-1bc4164d621f"
      },
      "outputs": [
        {
          "output_type": "execute_result",
          "data": {
            "text/plain": [
              "{'accuracy': 79.26509186351706,\n",
              " 'f1': 0.7862189758049549,\n",
              " 'precision': 0.8111390004213173,\n",
              " 'recall': 0.7926509186351706}"
            ]
          },
          "metadata": {},
          "execution_count": 68
        }
      ],
      "source": [
        "baseline_results"
      ]
    },
    {
      "cell_type": "markdown",
      "metadata": {
        "id": "LLZwnFFOSceU"
      },
      "source": [
        "## Model 4: Bidirectional RNN\n",
        "\n",
        "Normal RNN's go from left to right (just like you'd read an English sentence) however, a bidirectional RNN goes from right to left as well as left to right.\n",
        "\n",
        "https://www.tensorflow.org/api_docs/python/tf/keras/layers/Bidirectional"
      ]
    },
    {
      "cell_type": "code",
      "execution_count": null,
      "metadata": {
        "id": "C4gmLdRFJaP0"
      },
      "outputs": [],
      "source": [
        "# Build a bidirectional RNN in Tensorflow\n",
        "from tensorflow.keras import layers\n",
        "inputs = layers.Input(shape=(1,), dtype = tf.string)\n",
        "x = text_vectorizer(inputs)\n",
        "x = embedding(x)\n",
        "x = layers.Bidirectional(layers.LSTM(64))(x)\n",
        "# x = layers.Bidirectional(layers.GRU(64))(x)\n",
        "outputs = layers.Dense(1, activation=\"sigmoid\")(x)\n",
        "model_4 = tf.keras.Model(inputs, outputs, name=\"model_4_bidirectional\")"
      ]
    },
    {
      "cell_type": "code",
      "execution_count": null,
      "metadata": {
        "colab": {
          "base_uri": "https://localhost:8080/"
        },
        "id": "0yyBM6XLVIeB",
        "outputId": "705d1cd9-4431-490b-8054-946459bd37ee"
      },
      "outputs": [
        {
          "output_type": "stream",
          "name": "stdout",
          "text": [
            "Model: \"model_4_bidirectional\"\n",
            "_________________________________________________________________\n",
            " Layer (type)                Output Shape              Param #   \n",
            "=================================================================\n",
            " input_4 (InputLayer)        [(None, 1)]               0         \n",
            "                                                                 \n",
            " text_vectorization_1 (TextV  (None, 15)               0         \n",
            " ectorization)                                                   \n",
            "                                                                 \n",
            " embedding (Embedding)       (None, 15, 128)           1280000   \n",
            "                                                                 \n",
            " bidirectional (Bidirectiona  (None, 128)              98816     \n",
            " l)                                                              \n",
            "                                                                 \n",
            " dense_5 (Dense)             (None, 1)                 129       \n",
            "                                                                 \n",
            "=================================================================\n",
            "Total params: 1,378,945\n",
            "Trainable params: 1,378,945\n",
            "Non-trainable params: 0\n",
            "_________________________________________________________________\n"
          ]
        }
      ],
      "source": [
        "model_4.summary()"
      ]
    },
    {
      "cell_type": "code",
      "execution_count": null,
      "metadata": {
        "id": "Ut6GeLUoUy0M"
      },
      "outputs": [],
      "source": [
        "# Compile the model\n",
        "model_4.compile(loss=\"binary_crossentropy\",\n",
        "                optimizer=tf.keras.optimizers.Adam(),\n",
        "                metrics=[\"accuracy\"])"
      ]
    },
    {
      "cell_type": "code",
      "execution_count": null,
      "metadata": {
        "colab": {
          "base_uri": "https://localhost:8080/"
        },
        "id": "MjT-nKaKVF3s",
        "outputId": "7b9dba1a-65aa-4845-8098-cd60e188d696"
      },
      "outputs": [
        {
          "output_type": "stream",
          "name": "stdout",
          "text": [
            "Saving TensorBoard log files to: /content/model_logs/model_4_bidirectional/20220604-150014\n",
            "Epoch 1/5\n",
            "215/215 [==============================] - 8s 19ms/step - loss: 0.1183 - accuracy: 0.9599 - val_loss: 0.9888 - val_accuracy: 0.7677\n",
            "Epoch 2/5\n",
            "215/215 [==============================] - 3s 12ms/step - loss: 0.0573 - accuracy: 0.9742 - val_loss: 1.2901 - val_accuracy: 0.7730\n",
            "Epoch 3/5\n",
            "215/215 [==============================] - 2s 9ms/step - loss: 0.0474 - accuracy: 0.9791 - val_loss: 1.1757 - val_accuracy: 0.7493\n",
            "Epoch 4/5\n",
            "215/215 [==============================] - 2s 9ms/step - loss: 0.0411 - accuracy: 0.9793 - val_loss: 1.3783 - val_accuracy: 0.7546\n",
            "Epoch 5/5\n",
            "215/215 [==============================] - 2s 9ms/step - loss: 0.0469 - accuracy: 0.9783 - val_loss: 1.4475 - val_accuracy: 0.7651\n"
          ]
        }
      ],
      "source": [
        "# Fit the model\n",
        "model_4_history = model_4.fit(x=train_sentences,\n",
        "            y = train_labels,\n",
        "            epochs=5,\n",
        "            validation_data=(val_sentences,val_labels),\n",
        "            callbacks=[create_tensorboard_callback(SAVE_DIR,\n",
        "                                                   \"model_4_bidirectional\")])"
      ]
    },
    {
      "cell_type": "code",
      "execution_count": null,
      "metadata": {
        "colab": {
          "base_uri": "https://localhost:8080/"
        },
        "id": "2pQxC3-lWBTR",
        "outputId": "ef6cf2bd-45e3-41ed-e1de-be166c119b03"
      },
      "outputs": [
        {
          "output_type": "execute_result",
          "data": {
            "text/plain": [
              "array([[6.7723893e-02],\n",
              "       [6.4281386e-01],\n",
              "       [9.9997878e-01],\n",
              "       [1.4742248e-01],\n",
              "       [1.9862800e-05],\n",
              "       [9.9991429e-01],\n",
              "       [9.9552131e-01],\n",
              "       [9.9999249e-01],\n",
              "       [9.9998164e-01],\n",
              "       [9.9698764e-01]], dtype=float32)"
            ]
          },
          "metadata": {},
          "execution_count": 73
        }
      ],
      "source": [
        "model_4_pred_probs=model_4.predict(val_sentences)\n",
        "model_4_pred_probs[:10]"
      ]
    },
    {
      "cell_type": "code",
      "execution_count": null,
      "metadata": {
        "colab": {
          "base_uri": "https://localhost:8080/"
        },
        "id": "WB389OeKW_Xh",
        "outputId": "64983917-08f1-48a4-9672-9c059b5f5da8"
      },
      "outputs": [
        {
          "output_type": "execute_result",
          "data": {
            "text/plain": [
              "<tf.Tensor: shape=(10,), dtype=float32, numpy=array([0., 1., 1., 0., 0., 1., 1., 1., 1., 1.], dtype=float32)>"
            ]
          },
          "metadata": {},
          "execution_count": 74
        }
      ],
      "source": [
        "model_4_preds = tf.squeeze(tf.round(model_4_pred_probs))\n",
        "model_4_preds[:10]"
      ]
    },
    {
      "cell_type": "code",
      "execution_count": null,
      "metadata": {
        "colab": {
          "base_uri": "https://localhost:8080/"
        },
        "id": "eNnv1cgSXKUN",
        "outputId": "b424fd42-4c77-4398-844a-4dbf2b4ab008"
      },
      "outputs": [
        {
          "output_type": "execute_result",
          "data": {
            "text/plain": [
              "{'accuracy': 76.50918635170603,\n",
              " 'f1': 0.7635213723925918,\n",
              " 'precision': 0.7656343373801384,\n",
              " 'recall': 0.7650918635170604}"
            ]
          },
          "metadata": {},
          "execution_count": 75
        }
      ],
      "source": [
        "# Calculate the results of our bidirectional model\n",
        "model_4_results = calculate_results(y_true=val_labels,\n",
        "                                    y_pred=model_4_preds)\n",
        "model_4_results"
      ]
    },
    {
      "cell_type": "code",
      "execution_count": null,
      "metadata": {
        "colab": {
          "base_uri": "https://localhost:8080/"
        },
        "id": "EFGU7T9XYzeQ",
        "outputId": "ab281249-df87-4d07-aa03-ba57a55f54c8"
      },
      "outputs": [
        {
          "output_type": "execute_result",
          "data": {
            "text/plain": [
              "{'accuracy': 79.26509186351706,\n",
              " 'f1': 0.7862189758049549,\n",
              " 'precision': 0.8111390004213173,\n",
              " 'recall': 0.7926509186351706}"
            ]
          },
          "metadata": {},
          "execution_count": 76
        }
      ],
      "source": [
        "baseline_results"
      ]
    },
    {
      "cell_type": "code",
      "execution_count": null,
      "metadata": {
        "id": "xUL0Py_AY03q"
      },
      "outputs": [],
      "source": [
        ""
      ]
    },
    {
      "cell_type": "markdown",
      "metadata": {
        "id": "r3g5u1tzZfQL"
      },
      "source": [
        "##1D Convolutional Neural Network (CNN)\n",
        "\n",
        "In common we use CNNs for images but images are typically 2D (height x width)... however, our text data is 1D.\n",
        "\n",
        "We use Conv2D for image data but now we're going to use Conv1D.\n",
        "\n",
        "The typical structure of a Conv1D model for sequences (in our case, text):\n",
        "\n",
        "```\n",
        "Inputs (text) -> Tokenization -> Embedding -> Layer(s) (typically Conv1D + pooling) -> Outputs (class probabilities)\n",
        "```"
      ]
    },
    {
      "cell_type": "markdown",
      "metadata": {
        "id": "gMVhiGrvbOhv"
      },
      "source": [
        "## Model 5: Conv1D"
      ]
    },
    {
      "cell_type": "code",
      "execution_count": null,
      "metadata": {
        "colab": {
          "base_uri": "https://localhost:8080/"
        },
        "id": "vdK-o6YuaO3c",
        "outputId": "70a65c9f-6320-4df5-c0e8-03c20fc32e5d"
      },
      "outputs": [
        {
          "output_type": "execute_result",
          "data": {
            "text/plain": [
              "(TensorShape([1, 15, 128]), TensorShape([1, 11, 32]), TensorShape([1, 32]))"
            ]
          },
          "metadata": {},
          "execution_count": 77
        }
      ],
      "source": [
        "# Test out our embedding layer, Conv1D layer and max pooling\n",
        "from tensorflow.keras import layers\n",
        "embedding_test = embedding(text_vectorizer([\"This is a test sentence\"])) # turn target sequence into embedding\n",
        "conv_1d = layers.Conv1D(filters=32,\n",
        "                        kernel_size=5,\n",
        "                        strides=1,\n",
        "                        activation=\"relu\",\n",
        "                        padding=\"valid\")\n",
        "conv_1d_output = conv_1d(embedding_test) # pass test embedding through conv1d layer\n",
        "max_pool = layers.GlobalMaxPool1D()\n",
        "max_pool_output = max_pool(conv_1d_output) # equivalent to \"get the most important feature\" or \"get the feature with the highest value\"\n",
        "\n",
        "embedding_test.shape, conv_1d_output.shape, max_pool_output.shape"
      ]
    },
    {
      "cell_type": "code",
      "execution_count": null,
      "metadata": {
        "colab": {
          "base_uri": "https://localhost:8080/"
        },
        "id": "EMmNhTBIcohh",
        "outputId": "434eaa4d-161c-4d92-8e77-1b3906af7aaa"
      },
      "outputs": [
        {
          "output_type": "execute_result",
          "data": {
            "text/plain": [
              "<tf.Tensor: shape=(1, 15, 128), dtype=float32, numpy=\n",
              "array([[[ 0.01422715,  0.01592919,  0.00805133, ...,  0.02058767,\n",
              "         -0.0359165 , -0.05098207],\n",
              "        [ 0.09583382, -0.00325323,  0.0432438 , ...,  0.02198573,\n",
              "         -0.00982589, -0.07383423],\n",
              "        [ 0.05089462, -0.00549821,  0.01970667, ...,  0.00307261,\n",
              "          0.07138769, -0.06328355],\n",
              "        ...,\n",
              "        [ 0.01680666,  0.00911546, -0.01436433, ..., -0.02763506,\n",
              "          0.03842492, -0.0076118 ],\n",
              "        [ 0.01680666,  0.00911546, -0.01436433, ..., -0.02763506,\n",
              "          0.03842492, -0.0076118 ],\n",
              "        [ 0.01680666,  0.00911546, -0.01436433, ..., -0.02763506,\n",
              "          0.03842492, -0.0076118 ]]], dtype=float32)>"
            ]
          },
          "metadata": {},
          "execution_count": 78
        }
      ],
      "source": [
        "embedding_test"
      ]
    },
    {
      "cell_type": "code",
      "source": [
        "conv_1d_output"
      ],
      "metadata": {
        "colab": {
          "base_uri": "https://localhost:8080/"
        },
        "id": "8zqxR2eWVsI_",
        "outputId": "f2a1a517-a97d-41a4-b532-8ed91cf1102b"
      },
      "execution_count": null,
      "outputs": [
        {
          "output_type": "execute_result",
          "data": {
            "text/plain": [
              "<tf.Tensor: shape=(1, 11, 32), dtype=float32, numpy=\n",
              "array([[[0.        , 0.        , 0.05743292, 0.03514693, 0.        ,\n",
              "         0.11649044, 0.02779329, 0.06079919, 0.        , 0.        ,\n",
              "         0.        , 0.00662985, 0.        , 0.08363612, 0.00672275,\n",
              "         0.        , 0.        , 0.02069202, 0.01222719, 0.03766919,\n",
              "         0.06152037, 0.        , 0.        , 0.        , 0.        ,\n",
              "         0.        , 0.02587861, 0.        , 0.07719269, 0.00619309,\n",
              "         0.        , 0.        ],\n",
              "        [0.        , 0.02313489, 0.        , 0.05500063, 0.        ,\n",
              "         0.        , 0.        , 0.        , 0.02017223, 0.05381431,\n",
              "         0.        , 0.        , 0.0226198 , 0.04498129, 0.        ,\n",
              "         0.        , 0.        , 0.0735977 , 0.        , 0.07596835,\n",
              "         0.07665594, 0.        , 0.        , 0.        , 0.00272334,\n",
              "         0.01907444, 0.        , 0.05793615, 0.02823609, 0.01345573,\n",
              "         0.09024046, 0.        ],\n",
              "        [0.04865848, 0.        , 0.        , 0.        , 0.07200813,\n",
              "         0.05860442, 0.01850818, 0.        , 0.00428496, 0.        ,\n",
              "         0.        , 0.        , 0.        , 0.0202926 , 0.        ,\n",
              "         0.03087354, 0.04958484, 0.        , 0.        , 0.05688269,\n",
              "         0.03276523, 0.        , 0.        , 0.00414026, 0.        ,\n",
              "         0.03228093, 0.05325432, 0.        , 0.03938556, 0.        ,\n",
              "         0.02919246, 0.        ],\n",
              "        [0.00604841, 0.03335775, 0.01677835, 0.066403  , 0.06063045,\n",
              "         0.        , 0.        , 0.02120896, 0.06719931, 0.        ,\n",
              "         0.        , 0.0048326 , 0.04165024, 0.08400809, 0.        ,\n",
              "         0.02534641, 0.00960111, 0.        , 0.        , 0.        ,\n",
              "         0.02238959, 0.        , 0.        , 0.        , 0.        ,\n",
              "         0.07186981, 0.03324739, 0.        , 0.00363214, 0.00199801,\n",
              "         0.        , 0.        ],\n",
              "        [0.        , 0.01364012, 0.        , 0.03291801, 0.04571776,\n",
              "         0.        , 0.00348931, 0.        , 0.04778337, 0.01133639,\n",
              "         0.        , 0.01703105, 0.        , 0.        , 0.03633658,\n",
              "         0.        , 0.00714293, 0.01970233, 0.02095456, 0.        ,\n",
              "         0.00305355, 0.        , 0.        , 0.00148822, 0.        ,\n",
              "         0.01069738, 0.        , 0.        , 0.        , 0.        ,\n",
              "         0.01414778, 0.01223699],\n",
              "        [0.00247309, 0.        , 0.        , 0.04016768, 0.0593582 ,\n",
              "         0.        , 0.        , 0.        , 0.05658282, 0.01504044,\n",
              "         0.        , 0.        , 0.        , 0.00188243, 0.        ,\n",
              "         0.01032245, 0.        , 0.        , 0.        , 0.        ,\n",
              "         0.02004009, 0.        , 0.        , 0.        , 0.        ,\n",
              "         0.0405303 , 0.        , 0.        , 0.00923216, 0.00055855,\n",
              "         0.02463845, 0.        ],\n",
              "        [0.00247309, 0.        , 0.        , 0.04016767, 0.05935819,\n",
              "         0.        , 0.        , 0.        , 0.05658282, 0.01504044,\n",
              "         0.        , 0.        , 0.        , 0.00188243, 0.        ,\n",
              "         0.01032244, 0.        , 0.        , 0.        , 0.        ,\n",
              "         0.02004008, 0.        , 0.        , 0.        , 0.        ,\n",
              "         0.04053029, 0.        , 0.        , 0.00923216, 0.00055855,\n",
              "         0.02463845, 0.        ],\n",
              "        [0.00247307, 0.        , 0.        , 0.04016767, 0.05935821,\n",
              "         0.        , 0.        , 0.        , 0.05658283, 0.01504043,\n",
              "         0.        , 0.        , 0.        , 0.00188242, 0.        ,\n",
              "         0.01032244, 0.        , 0.        , 0.        , 0.        ,\n",
              "         0.02004009, 0.        , 0.        , 0.        , 0.        ,\n",
              "         0.04053029, 0.        , 0.        , 0.00923216, 0.00055855,\n",
              "         0.02463844, 0.        ],\n",
              "        [0.00247308, 0.        , 0.        , 0.04016769, 0.05935819,\n",
              "         0.        , 0.        , 0.        , 0.05658282, 0.01504043,\n",
              "         0.        , 0.        , 0.        , 0.00188243, 0.        ,\n",
              "         0.01032244, 0.        , 0.        , 0.        , 0.        ,\n",
              "         0.02004008, 0.        , 0.        , 0.        , 0.        ,\n",
              "         0.04053029, 0.        , 0.        , 0.00923215, 0.00055854,\n",
              "         0.02463845, 0.        ],\n",
              "        [0.00247308, 0.        , 0.        , 0.04016769, 0.0593582 ,\n",
              "         0.        , 0.        , 0.        , 0.05658282, 0.01504043,\n",
              "         0.        , 0.        , 0.        , 0.00188244, 0.        ,\n",
              "         0.01032244, 0.        , 0.        , 0.        , 0.        ,\n",
              "         0.02004009, 0.        , 0.        , 0.        , 0.        ,\n",
              "         0.04053029, 0.        , 0.        , 0.00923216, 0.00055854,\n",
              "         0.02463846, 0.        ],\n",
              "        [0.00247308, 0.        , 0.        , 0.04016768, 0.0593582 ,\n",
              "         0.        , 0.        , 0.        , 0.05658282, 0.01504043,\n",
              "         0.        , 0.        , 0.        , 0.00188244, 0.        ,\n",
              "         0.01032244, 0.        , 0.        , 0.        , 0.        ,\n",
              "         0.02004009, 0.        , 0.        , 0.        , 0.        ,\n",
              "         0.04053029, 0.        , 0.        , 0.00923215, 0.00055854,\n",
              "         0.02463846, 0.        ]]], dtype=float32)>"
            ]
          },
          "metadata": {},
          "execution_count": 79
        }
      ]
    },
    {
      "cell_type": "code",
      "source": [
        "max_pool_output"
      ],
      "metadata": {
        "colab": {
          "base_uri": "https://localhost:8080/"
        },
        "id": "p0FhNZZyVt16",
        "outputId": "ba61e432-1170-4e36-8a63-ca8a592ccd6e"
      },
      "execution_count": null,
      "outputs": [
        {
          "output_type": "execute_result",
          "data": {
            "text/plain": [
              "<tf.Tensor: shape=(1, 32), dtype=float32, numpy=\n",
              "array([[0.04865848, 0.03335775, 0.05743292, 0.066403  , 0.07200813,\n",
              "        0.11649044, 0.02779329, 0.06079919, 0.06719931, 0.05381431,\n",
              "        0.        , 0.01703105, 0.04165024, 0.08400809, 0.03633658,\n",
              "        0.03087354, 0.04958484, 0.0735977 , 0.02095456, 0.07596835,\n",
              "        0.07665594, 0.        , 0.        , 0.00414026, 0.00272334,\n",
              "        0.07186981, 0.05325432, 0.05793615, 0.07719269, 0.01345573,\n",
              "        0.09024046, 0.01223699]], dtype=float32)>"
            ]
          },
          "metadata": {},
          "execution_count": 80
        }
      ]
    },
    {
      "cell_type": "code",
      "source": [
        "# Build a Conv1D model in Tensorflow\n",
        "from tensorflow.keras import layers\n",
        "inputs = layers.Input(shape=(1,), dtype = tf.string)\n",
        "x = text_vectorizer(inputs)\n",
        "x = embedding(x)\n",
        "x = layers.Conv1D(filters=64,\n",
        "                        kernel_size=5,\n",
        "                        strides=1,\n",
        "                        activation=\"relu\",\n",
        "                        padding=\"valid\")(x)\n",
        "x = layers.GlobalMaxPool1D()(x)\n",
        "outputs = layers.Dense(1, activation=\"sigmoid\")(x)\n",
        "model_5 = tf.keras.Model(inputs, outputs, name=\"model_5_conv1d\")"
      ],
      "metadata": {
        "id": "6C3vzgOBWDwj"
      },
      "execution_count": null,
      "outputs": []
    },
    {
      "cell_type": "code",
      "source": [
        "# Compile the model\n",
        "model_5.compile(loss=\"binary_crossentropy\",\n",
        "                optimizer=tf.keras.optimizers.Adam(),\n",
        "                metrics=[\"accuracy\"])"
      ],
      "metadata": {
        "id": "IugqD3AcXBz5"
      },
      "execution_count": null,
      "outputs": []
    },
    {
      "cell_type": "code",
      "source": [
        "model_5.summary()"
      ],
      "metadata": {
        "colab": {
          "base_uri": "https://localhost:8080/"
        },
        "id": "D7U6-HgROFwv",
        "outputId": "f91666a4-6fda-4bea-bd8f-e718acfea4b3"
      },
      "execution_count": null,
      "outputs": [
        {
          "output_type": "stream",
          "name": "stdout",
          "text": [
            "Model: \"model_5_conv1d\"\n",
            "_________________________________________________________________\n",
            " Layer (type)                Output Shape              Param #   \n",
            "=================================================================\n",
            " input_5 (InputLayer)        [(None, 1)]               0         \n",
            "                                                                 \n",
            " text_vectorization_1 (TextV  (None, 15)               0         \n",
            " ectorization)                                                   \n",
            "                                                                 \n",
            " embedding (Embedding)       (None, 15, 128)           1280000   \n",
            "                                                                 \n",
            " conv1d_1 (Conv1D)           (None, 11, 64)            41024     \n",
            "                                                                 \n",
            " global_max_pooling1d_1 (Glo  (None, 64)               0         \n",
            " balMaxPooling1D)                                                \n",
            "                                                                 \n",
            " dense_6 (Dense)             (None, 1)                 65        \n",
            "                                                                 \n",
            "=================================================================\n",
            "Total params: 1,321,089\n",
            "Trainable params: 1,321,089\n",
            "Non-trainable params: 0\n",
            "_________________________________________________________________\n"
          ]
        }
      ]
    },
    {
      "cell_type": "code",
      "source": [
        "# Fit the model\n",
        "model_5_history = model_5.fit(x=train_sentences,\n",
        "            y = train_labels,\n",
        "            epochs=5,\n",
        "            validation_data=(val_sentences,val_labels),\n",
        "            callbacks=[create_tensorboard_callback(SAVE_DIR,\n",
        "                                                   \"model_5_conv1d\")])"
      ],
      "metadata": {
        "colab": {
          "base_uri": "https://localhost:8080/"
        },
        "id": "6KzgNdGoXXTT",
        "outputId": "e6d22fae-116a-4a0b-b3c7-1376ee276115"
      },
      "execution_count": null,
      "outputs": [
        {
          "output_type": "stream",
          "name": "stdout",
          "text": [
            "Saving TensorBoard log files to: /content/model_logs/model_5_conv1d/20220604-150045\n",
            "Epoch 1/5\n",
            "215/215 [==============================] - 3s 7ms/step - loss: 0.1271 - accuracy: 0.9587 - val_loss: 0.8728 - val_accuracy: 0.7743\n",
            "Epoch 2/5\n",
            "215/215 [==============================] - 1s 5ms/step - loss: 0.0774 - accuracy: 0.9704 - val_loss: 0.9787 - val_accuracy: 0.7612\n",
            "Epoch 3/5\n",
            "215/215 [==============================] - 1s 5ms/step - loss: 0.0621 - accuracy: 0.9753 - val_loss: 1.1214 - val_accuracy: 0.7677\n",
            "Epoch 4/5\n",
            "215/215 [==============================] - 1s 6ms/step - loss: 0.0551 - accuracy: 0.9768 - val_loss: 1.1590 - val_accuracy: 0.7677\n",
            "Epoch 5/5\n",
            "215/215 [==============================] - 1s 5ms/step - loss: 0.0515 - accuracy: 0.9777 - val_loss: 1.1943 - val_accuracy: 0.7651\n"
          ]
        }
      ]
    },
    {
      "cell_type": "code",
      "source": [
        "model_5_pred_probs = model_5.predict(val_sentences)\n",
        "model_5_pred_probs[:10]"
      ],
      "metadata": {
        "id": "V2LV_X_yYV0Y",
        "colab": {
          "base_uri": "https://localhost:8080/"
        },
        "outputId": "c3c145ec-8529-451b-f04f-4db3bd66f4a3"
      },
      "execution_count": null,
      "outputs": [
        {
          "output_type": "execute_result",
          "data": {
            "text/plain": [
              "array([[1.5388265e-01],\n",
              "       [6.4802188e-01],\n",
              "       [9.9975330e-01],\n",
              "       [4.8578735e-02],\n",
              "       [8.5711093e-08],\n",
              "       [9.9809700e-01],\n",
              "       [9.5723563e-01],\n",
              "       [9.9995697e-01],\n",
              "       [9.9999785e-01],\n",
              "       [8.1348425e-01]], dtype=float32)"
            ]
          },
          "metadata": {},
          "execution_count": 85
        }
      ]
    },
    {
      "cell_type": "code",
      "source": [
        "model_5_preds = tf.squeeze(tf.round(model_1_pred_probs))\n",
        "model_5_preds[:10]"
      ],
      "metadata": {
        "colab": {
          "base_uri": "https://localhost:8080/"
        },
        "id": "tiXeL8ouOjPT",
        "outputId": "5ddd0f0e-1171-42c4-f7c3-be659f3bc68e"
      },
      "execution_count": null,
      "outputs": [
        {
          "output_type": "execute_result",
          "data": {
            "text/plain": [
              "<tf.Tensor: shape=(10,), dtype=float32, numpy=array([0., 1., 1., 0., 0., 1., 1., 1., 1., 0.], dtype=float32)>"
            ]
          },
          "metadata": {},
          "execution_count": 86
        }
      ]
    },
    {
      "cell_type": "code",
      "source": [
        "model_5_results = calculate_results(y_true=val_labels,\n",
        "                                    y_pred=model_5_preds)\n",
        "model_5_results"
      ],
      "metadata": {
        "colab": {
          "base_uri": "https://localhost:8080/"
        },
        "id": "OtbjfNOAOtcE",
        "outputId": "58e732d5-80ef-4257-9e4c-1dac67c90d77"
      },
      "execution_count": null,
      "outputs": [
        {
          "output_type": "execute_result",
          "data": {
            "text/plain": [
              "{'accuracy': 78.87139107611549,\n",
              " 'f1': 0.7850561936710079,\n",
              " 'precision': 0.7958623979922417,\n",
              " 'recall': 0.7887139107611548}"
            ]
          },
          "metadata": {},
          "execution_count": 87
        }
      ]
    },
    {
      "cell_type": "code",
      "source": [
        "baseline_results"
      ],
      "metadata": {
        "colab": {
          "base_uri": "https://localhost:8080/"
        },
        "id": "PT0tg_qqO6HB",
        "outputId": "a529bc59-6eea-4cc9-cd40-58cfb2ecbbf8"
      },
      "execution_count": null,
      "outputs": [
        {
          "output_type": "execute_result",
          "data": {
            "text/plain": [
              "{'accuracy': 79.26509186351706,\n",
              " 'f1': 0.7862189758049549,\n",
              " 'precision': 0.8111390004213173,\n",
              " 'recall': 0.7926509186351706}"
            ]
          },
          "metadata": {},
          "execution_count": 88
        }
      ]
    },
    {
      "cell_type": "markdown",
      "source": [
        "## Model 6: Tensorflow Hub Pretrained Feature Extractor\n",
        "\n",
        "Now we've built a few of our own models, let's try and use transfer learning for NLP, specifically using Tensorflow Hub's Universal Sentence:\n",
        "https://tfhub.dev/google/universal-sentence-encoder/4\n"
      ],
      "metadata": {
        "id": "hCHVJEGPPh2z"
      }
    },
    {
      "cell_type": "code",
      "source": [
        "import tensorflow_hub as hub\n",
        "\n",
        "embed = hub.load(\"https://tfhub.dev/google/universal-sentence-encoder/4\")"
      ],
      "metadata": {
        "id": "sP7cqVG8RfUK"
      },
      "execution_count": null,
      "outputs": []
    },
    {
      "cell_type": "code",
      "source": [
        "embed_samples = embed([\n",
        "    \"How are you doing guys\",\n",
        "    \"Alright, thanks\"])\n",
        "\n",
        "print(embed_samples[0][:50])"
      ],
      "metadata": {
        "colab": {
          "base_uri": "https://localhost:8080/"
        },
        "id": "F7qPb_VFkunV",
        "outputId": "a8e83f25-b465-43a6-d68f-7ff7b7ed4de2"
      },
      "execution_count": null,
      "outputs": [
        {
          "output_type": "stream",
          "name": "stdout",
          "text": [
            "tf.Tensor(\n",
            "[-0.00955968 -0.02069366  0.02895959 -0.03195841  0.03033749 -0.03369074\n",
            "  0.0370409  -0.05940923 -0.03410084  0.0562449   0.01240402  0.01565332\n",
            " -0.0282279  -0.04369046  0.05569987 -0.09179341  0.00073456 -0.03529261\n",
            " -0.04244196 -0.05745114  0.09375221 -0.02376795 -0.02160378  0.00713499\n",
            " -0.04469683  0.02867096  0.00318188  0.04821961 -0.05888362  0.03403522\n",
            "  0.0374193   0.0246493   0.03737752  0.02163684 -0.04623828  0.00070789\n",
            " -0.01205913 -0.06386765 -0.01501329 -0.01664967  0.0472138   0.04492283\n",
            "  0.01359126 -0.00414116  0.03635148 -0.02437958 -0.08309639  0.03164092\n",
            "  0.04046029  0.02810158], shape=(50,), dtype=float32)\n"
          ]
        }
      ]
    },
    {
      "cell_type": "code",
      "source": [
        "from os import name\n",
        "# Create a Keras layer using the USE pretrained layer from tensorflow hub\n",
        "sentence_encoder_layer = hub.KerasLayer(\"https://tfhub.dev/google/universal-sentence-encoder/4\",\n",
        "                                        input_shape=[],\n",
        "                                        dtype=tf.string,\n",
        "                                        trainable=False,\n",
        "                                        name=\"USE\")"
      ],
      "metadata": {
        "id": "chRRjgA_lqup"
      },
      "execution_count": null,
      "outputs": []
    },
    {
      "cell_type": "code",
      "source": [
        "# Create model using the Sequential API\n",
        "import tensorflow as tf\n",
        "from tensorflow.keras import layers\n",
        "\n",
        "model_6 = tf.keras.Sequential([\n",
        "  sentence_encoder_layer,\n",
        "  layers.Dense(64, activation=\"relu\"),\n",
        "  layers.Dense(1, activation=\"sigmoid\", name=\"output_layer\")\n",
        "], name=\"model_6_USE\")\n",
        "\n",
        "# Compile the model\n",
        "model_6.compile(loss=\"binary_crossentropy\",\n",
        "                optimizer=tf.keras.optimizers.Adam(),\n",
        "                metrics=[\"accuracy\"])\n",
        "\n",
        "model_6.summary()"
      ],
      "metadata": {
        "colab": {
          "base_uri": "https://localhost:8080/"
        },
        "id": "jcq3_ncjoKGT",
        "outputId": "bba8f4db-c124-45a0-bd6d-c989543fbfa6"
      },
      "execution_count": null,
      "outputs": [
        {
          "output_type": "stream",
          "name": "stdout",
          "text": [
            "Model: \"model_6_USE\"\n",
            "_________________________________________________________________\n",
            " Layer (type)                Output Shape              Param #   \n",
            "=================================================================\n",
            " USE (KerasLayer)            (None, 512)               256797824 \n",
            "                                                                 \n",
            " dense_7 (Dense)             (None, 64)                32832     \n",
            "                                                                 \n",
            " output_layer (Dense)        (None, 1)                 65        \n",
            "                                                                 \n",
            "=================================================================\n",
            "Total params: 256,830,721\n",
            "Trainable params: 32,897\n",
            "Non-trainable params: 256,797,824\n",
            "_________________________________________________________________\n"
          ]
        }
      ]
    },
    {
      "cell_type": "code",
      "source": [
        "# Train a classifier on top of USE pretrained embeddings\n",
        "model_6_history = model_6.fit(train_sentences,\n",
        "                              train_labels,\n",
        "                              epochs = 5,\n",
        "                              validation_data=(val_sentences, val_labels),\n",
        "                              callbacks=[create_tensorboard_callback(SAVE_DIR,\n",
        "                                                                     \"tf_hub_sentence_encoder\")])"
      ],
      "metadata": {
        "colab": {
          "base_uri": "https://localhost:8080/"
        },
        "id": "ifwQge2ApWPH",
        "outputId": "4b9b8623-0c81-49c5-be49-c19b2dd32949"
      },
      "execution_count": null,
      "outputs": [
        {
          "output_type": "stream",
          "name": "stdout",
          "text": [
            "Saving TensorBoard log files to: /content/model_logs/tf_hub_sentence_encoder/20220604-150116\n",
            "Epoch 1/5\n",
            "215/215 [==============================] - 6s 15ms/step - loss: 0.5043 - accuracy: 0.7831 - val_loss: 0.4504 - val_accuracy: 0.8058\n",
            "Epoch 2/5\n",
            "215/215 [==============================] - 3s 14ms/step - loss: 0.4145 - accuracy: 0.8142 - val_loss: 0.4406 - val_accuracy: 0.8110\n",
            "Epoch 3/5\n",
            "215/215 [==============================] - 3s 15ms/step - loss: 0.4012 - accuracy: 0.8212 - val_loss: 0.4400 - val_accuracy: 0.8084\n",
            "Epoch 4/5\n",
            "215/215 [==============================] - 4s 17ms/step - loss: 0.3925 - accuracy: 0.8270 - val_loss: 0.4293 - val_accuracy: 0.8150\n",
            "Epoch 5/5\n",
            "215/215 [==============================] - 3s 14ms/step - loss: 0.3859 - accuracy: 0.8300 - val_loss: 0.4270 - val_accuracy: 0.8123\n"
          ]
        }
      ]
    },
    {
      "cell_type": "code",
      "source": [
        "model_6_pred_probs = model_6.predict(val_sentences)\n",
        "model_6_pred_probs[:10]"
      ],
      "metadata": {
        "colab": {
          "base_uri": "https://localhost:8080/"
        },
        "id": "iyXeWeH_4fh0",
        "outputId": "f8d12f4c-61e3-4a80-be1e-017f638c9857"
      },
      "execution_count": null,
      "outputs": [
        {
          "output_type": "execute_result",
          "data": {
            "text/plain": [
              "array([[0.18793273],\n",
              "       [0.8368599 ],\n",
              "       [0.99019617],\n",
              "       [0.21896216],\n",
              "       [0.77115506],\n",
              "       [0.7557178 ],\n",
              "       [0.9854305 ],\n",
              "       [0.98175174],\n",
              "       [0.95008904],\n",
              "       [0.12384968]], dtype=float32)"
            ]
          },
          "metadata": {},
          "execution_count": 94
        }
      ]
    },
    {
      "cell_type": "code",
      "source": [
        "# Convert prediction probabilities to labels\n",
        "model_6_preds = tf.squeeze(tf.round(model_6_pred_probs))\n",
        "model_6_preds[:10]"
      ],
      "metadata": {
        "colab": {
          "base_uri": "https://localhost:8080/"
        },
        "id": "frvcj7Bz7KFZ",
        "outputId": "251f1381-7e71-4c57-adbf-750de744ad23"
      },
      "execution_count": null,
      "outputs": [
        {
          "output_type": "execute_result",
          "data": {
            "text/plain": [
              "<tf.Tensor: shape=(10,), dtype=float32, numpy=array([0., 1., 1., 0., 1., 1., 1., 1., 1., 0.], dtype=float32)>"
            ]
          },
          "metadata": {},
          "execution_count": 95
        }
      ]
    },
    {
      "cell_type": "code",
      "source": [
        "# Calculate model 6 perfomance metrics\n",
        "model_6_results = calculate_results(y_true=val_labels,\n",
        "                                    y_pred=model_6_preds)\n",
        "model_6_results"
      ],
      "metadata": {
        "colab": {
          "base_uri": "https://localhost:8080/"
        },
        "id": "ZDxbkxX24mch",
        "outputId": "2a9df572-b396-4970-b59d-a437497122bb"
      },
      "execution_count": null,
      "outputs": [
        {
          "output_type": "execute_result",
          "data": {
            "text/plain": [
              "{'accuracy': 81.23359580052494,\n",
              " 'f1': 0.8115121319063344,\n",
              " 'precision': 0.812763224356635,\n",
              " 'recall': 0.8123359580052494}"
            ]
          },
          "metadata": {},
          "execution_count": 96
        }
      ]
    },
    {
      "cell_type": "code",
      "source": [
        "baseline_results"
      ],
      "metadata": {
        "colab": {
          "base_uri": "https://localhost:8080/"
        },
        "id": "n33kEZHE7iOE",
        "outputId": "1aa1ea82-c3a5-43bb-a6d5-8532a193b5b4"
      },
      "execution_count": null,
      "outputs": [
        {
          "output_type": "execute_result",
          "data": {
            "text/plain": [
              "{'accuracy': 79.26509186351706,\n",
              " 'f1': 0.7862189758049549,\n",
              " 'precision': 0.8111390004213173,\n",
              " 'recall': 0.7926509186351706}"
            ]
          },
          "metadata": {},
          "execution_count": 97
        }
      ]
    },
    {
      "cell_type": "markdown",
      "source": [
        "## Model 7: TF Hub Pretrained USE but with 10% of training data\n",
        "\n",
        "Transfer learning really helps when you don't have a large dataset.\n",
        "\n",
        "To see how our model performs on a smaller dataset, let's replicate `model_6` except we'll train it on 10% of the data"
      ],
      "metadata": {
        "id": "_x_vGu4I7lAc"
      }
    },
    {
      "cell_type": "code",
      "source": [
        "## NOTE: Making data splits like below leadsto data leakage (model_7 trained on 10% data, outperforms model_6 trained on 100% data)\n",
        "## DO NOT MAKE DATA SPLITS WHICH LEAK DATA FROM VALIDATION/TEST SETS INTO TRAINING SET\n",
        "\n",
        "# # Create subset of 10% of the training data\n",
        "# train_10_percent = train_df_shuffled[[\"text\", \"target\"]].sample(frac=0.1, random_state=42)\n",
        "# # train_10_percent.head(), len(train_10_percent)\n",
        "\n",
        "# train_sentences_10_percent = train_10_percent[\"text\"].to_list()\n",
        "# train_labels_10_percent = train_10_percent[\"target\"].to_list()\n",
        "\n",
        "# len(train_sentences_10_percent), len(train_labels_10_percent)"
      ],
      "metadata": {
        "id": "WWuHQIDK9Vzz"
      },
      "execution_count": null,
      "outputs": []
    },
    {
      "cell_type": "markdown",
      "source": [
        "🔑 **Note:** Be *very* careful when creating training/val/test splits that you don't leak data across the datasets, otherwise your model evaluation metrics will be wrong. If something looks too good to be true (a model trained on 10% of data outperforming the same model trained on 100% of data) trust your gut and go back through to find where the error may lie."
      ],
      "metadata": {
        "id": "ok9dXagKQGgv"
      }
    },
    {
      "cell_type": "code",
      "source": [
        "# Making better dataset split (no data leakage)\n",
        "train_10_percent_split = int(0.1 * len(train_sentences))\n",
        "train_sentences_10_percent = train_sentences[:train_10_percent_split]\n",
        "train_labels_10_percent = train_labels[:train_10_percent_split]"
      ],
      "metadata": {
        "id": "SpL0jgqSGm8R"
      },
      "execution_count": null,
      "outputs": []
    },
    {
      "cell_type": "code",
      "source": [
        "import numpy as np"
      ],
      "metadata": {
        "id": "jrdZiHuePMfU"
      },
      "execution_count": null,
      "outputs": []
    },
    {
      "cell_type": "code",
      "source": [
        "# Check the number of each label in the updated training data subset\n",
        "pd.Series(np.array(train_labels_10_percent)).value_counts()"
      ],
      "metadata": {
        "colab": {
          "base_uri": "https://localhost:8080/"
        },
        "id": "wY3QQBAzNLuL",
        "outputId": "5438ff29-124e-4c90-cbb1-c6c75dfa13f6"
      },
      "execution_count": null,
      "outputs": [
        {
          "output_type": "execute_result",
          "data": {
            "text/plain": [
              "0    406\n",
              "1    279\n",
              "dtype: int64"
            ]
          },
          "metadata": {},
          "execution_count": 102
        }
      ]
    },
    {
      "cell_type": "code",
      "source": [
        "# Check the number of targets in our subset of data\n",
        "train_df_shuffled[\"target\"].value_counts()"
      ],
      "metadata": {
        "colab": {
          "base_uri": "https://localhost:8080/"
        },
        "id": "Qpn-SxvE-qxi",
        "outputId": "dc9fdde5-caab-4f57-bd7d-27b0996101c7"
      },
      "execution_count": null,
      "outputs": [
        {
          "output_type": "execute_result",
          "data": {
            "text/plain": [
              "0    4342\n",
              "1    3271\n",
              "Name: target, dtype: int64"
            ]
          },
          "metadata": {},
          "execution_count": 103
        }
      ]
    },
    {
      "cell_type": "code",
      "source": [
        "train_df_shuffled[\"target\"].value_counts()"
      ],
      "metadata": {
        "colab": {
          "base_uri": "https://localhost:8080/"
        },
        "id": "SOKt7ZdQ-1Qo",
        "outputId": "b068041a-e9ee-4289-9fca-f6692d94fa53"
      },
      "execution_count": null,
      "outputs": [
        {
          "output_type": "execute_result",
          "data": {
            "text/plain": [
              "0    4342\n",
              "1    3271\n",
              "Name: target, dtype: int64"
            ]
          },
          "metadata": {},
          "execution_count": 110
        }
      ]
    },
    {
      "cell_type": "markdown",
      "source": [
        "To recreate a model the same as a previous model you've created you can use the `tf.keras.models.clone_model()` method, see more here: https://www.tensorflow.org/api_docs/python/tf/keras/models/clone_model"
      ],
      "metadata": {
        "id": "O-qZFoJk_jhB"
      }
    },
    {
      "cell_type": "code",
      "source": [
        "# Let's build a model the same as model_6\n",
        "model_7 = tf.keras.Sequential([\n",
        "  sentence_encoder_layer,\n",
        "  layers.Dense(64, activation=\"relu\"),\n",
        "  layers.Dense(1, activation=\"sigmoid\", name=\"output_layer\")\n",
        "], name=\"model_7_USE\")\n",
        "\n",
        "# Compile the model\n",
        "model_7.compile(loss=\"binary_crossentropy\",\n",
        "                optimizer=tf.keras.optimizers.Adam(),\n",
        "                metrics=[\"accuracy\"])\n",
        "model_7.summary()"
      ],
      "metadata": {
        "colab": {
          "base_uri": "https://localhost:8080/"
        },
        "id": "kQvU0TaK-9n5",
        "outputId": "f94b907e-a840-4e89-8df4-457d3a6b5cba"
      },
      "execution_count": null,
      "outputs": [
        {
          "output_type": "stream",
          "name": "stdout",
          "text": [
            "Model: \"model_7_USE\"\n",
            "_________________________________________________________________\n",
            " Layer (type)                Output Shape              Param #   \n",
            "=================================================================\n",
            " USE (KerasLayer)            (None, 512)               256797824 \n",
            "                                                                 \n",
            " dense_8 (Dense)             (None, 64)                32832     \n",
            "                                                                 \n",
            " output_layer (Dense)        (None, 1)                 65        \n",
            "                                                                 \n",
            "=================================================================\n",
            "Total params: 256,830,721\n",
            "Trainable params: 32,897\n",
            "Non-trainable params: 256,797,824\n",
            "_________________________________________________________________\n"
          ]
        }
      ]
    },
    {
      "cell_type": "code",
      "source": [
        "# Fit the model to the 10% training data subsets\n",
        "model_7_history = model_7.fit(x=train_sentences_10_percent,\n",
        "                              y=train_labels_10_percent,\n",
        "                              epochs=5,\n",
        "                              validation_data=(val_sentences, val_labels),\n",
        "                              callbacks=[create_tensorboard_callback(SAVE_DIR,\n",
        "                                                                    \"tf_hub_sentence_encoder_10_percent_correct_split\")])"
      ],
      "metadata": {
        "colab": {
          "base_uri": "https://localhost:8080/"
        },
        "id": "IhdqVZyXA4BX",
        "outputId": "aff533eb-72c0-4272-a1cc-fac962cf76c2"
      },
      "execution_count": null,
      "outputs": [
        {
          "output_type": "stream",
          "name": "stdout",
          "text": [
            "Saving TensorBoard log files to: /content/model_logs/tf_hub_sentence_encoder_10_percent_correct_split/20220604-150503\n",
            "Epoch 1/5\n",
            "22/22 [==============================] - 2s 45ms/step - loss: 0.6724 - accuracy: 0.6555 - val_loss: 0.6572 - val_accuracy: 0.6772\n",
            "Epoch 2/5\n",
            "22/22 [==============================] - 1s 26ms/step - loss: 0.6105 - accuracy: 0.8015 - val_loss: 0.6049 - val_accuracy: 0.7441\n",
            "Epoch 3/5\n",
            "22/22 [==============================] - 1s 26ms/step - loss: 0.5374 - accuracy: 0.8117 - val_loss: 0.5494 - val_accuracy: 0.7598\n",
            "Epoch 4/5\n",
            "22/22 [==============================] - 1s 26ms/step - loss: 0.4758 - accuracy: 0.8248 - val_loss: 0.5119 - val_accuracy: 0.7703\n",
            "Epoch 5/5\n",
            "22/22 [==============================] - 0s 22ms/step - loss: 0.4296 - accuracy: 0.8292 - val_loss: 0.4980 - val_accuracy: 0.7703\n"
          ]
        }
      ]
    },
    {
      "cell_type": "code",
      "source": [
        "# Make predictions with the model trained on 10% of the data\n",
        "model_7_pred_probs = model_7.predict(val_sentences)\n",
        "model_7_pred_probs[:10]"
      ],
      "metadata": {
        "colab": {
          "base_uri": "https://localhost:8080/"
        },
        "id": "1taHfWxCCMnj",
        "outputId": "de5cdc74-ddb3-442f-a0e6-812e5b91964e"
      },
      "execution_count": null,
      "outputs": [
        {
          "output_type": "execute_result",
          "data": {
            "text/plain": [
              "array([[0.23010579],\n",
              "       [0.5436843 ],\n",
              "       [0.89629453],\n",
              "       [0.3682716 ],\n",
              "       [0.5358261 ],\n",
              "       [0.65605205],\n",
              "       [0.86600155],\n",
              "       [0.7929896 ],\n",
              "       [0.8256257 ],\n",
              "       [0.1557572 ]], dtype=float32)"
            ]
          },
          "metadata": {},
          "execution_count": 107
        }
      ]
    },
    {
      "cell_type": "code",
      "source": [
        "# Turn pred probs into labels\n",
        "model_7_preds = tf.squeeze(tf.round(model_7_pred_probs))\n",
        "model_7_preds[:10]"
      ],
      "metadata": {
        "colab": {
          "base_uri": "https://localhost:8080/"
        },
        "id": "nNnD2rwwCwou",
        "outputId": "dde8073e-5664-4247-9629-d9cdb2685c00"
      },
      "execution_count": null,
      "outputs": [
        {
          "output_type": "execute_result",
          "data": {
            "text/plain": [
              "<tf.Tensor: shape=(10,), dtype=float32, numpy=array([0., 1., 1., 0., 1., 1., 1., 1., 1., 0.], dtype=float32)>"
            ]
          },
          "metadata": {},
          "execution_count": 108
        }
      ]
    },
    {
      "cell_type": "code",
      "source": [
        "model_7_results = calculate_results(y_true=val_labels,\n",
        "                                    y_pred=model_7_preds)\n",
        "model_7_results"
      ],
      "metadata": {
        "colab": {
          "base_uri": "https://localhost:8080/"
        },
        "id": "W79n2BCVC_Gn",
        "outputId": "59372912-4a01-4aae-92d8-0443b7bd56f2"
      },
      "execution_count": null,
      "outputs": [
        {
          "output_type": "execute_result",
          "data": {
            "text/plain": [
              "{'accuracy': 77.03412073490814,\n",
              " 'f1': 0.7688058109983439,\n",
              " 'precision': 0.7709806133638261,\n",
              " 'recall': 0.7703412073490814}"
            ]
          },
          "metadata": {},
          "execution_count": 109
        }
      ]
    },
    {
      "cell_type": "code",
      "source": [
        "model_6_results"
      ],
      "metadata": {
        "colab": {
          "base_uri": "https://localhost:8080/"
        },
        "id": "kppN4zCoDONU",
        "outputId": "c0348f9b-bdb6-4397-e219-528c5e29d1a4"
      },
      "execution_count": null,
      "outputs": [
        {
          "output_type": "execute_result",
          "data": {
            "text/plain": [
              "{'accuracy': 81.23359580052494,\n",
              " 'f1': 0.8115121319063344,\n",
              " 'precision': 0.812763224356635,\n",
              " 'recall': 0.8123359580052494}"
            ]
          },
          "metadata": {},
          "execution_count": 110
        }
      ]
    },
    {
      "cell_type": "markdown",
      "source": [
        "## Comparing the performance of each of our model"
      ],
      "metadata": {
        "id": "P0E_i0VBRQWb"
      }
    },
    {
      "cell_type": "code",
      "source": [
        "# Combine model results into a DataFrame\n",
        "all_model_results = pd.DataFrame({\"0_baseline\": baseline_results,\n",
        "                                  \"1_simple_dense\": model_1_results,\n",
        "                                  \"2_LSTM\": model_2_results,\n",
        "                                  \"3_GRU\": model_3_results,\n",
        "                                  \"4_Bidirectional\": model_5_results,\n",
        "                                  \"5_Conv1D:\": model_5_results,\n",
        "                                  \"6_TF_Hub_USE_Encoder\": model_6_results,\n",
        "                                  \"7_TF_Hub_USE_Encoder_10_percent_of_data\": model_7_results})\n",
        "all_model_results = all_model_results.transpose()"
      ],
      "metadata": {
        "id": "UPtbvlXKRUz7"
      },
      "execution_count": null,
      "outputs": []
    },
    {
      "cell_type": "code",
      "source": [
        "# Reduce the accuracy to the same scale as other metrics\n",
        "all_model_results[\"accuracy\"] = all_model_results[\"accuracy\"]/100\n",
        "all_model_results"
      ],
      "metadata": {
        "colab": {
          "base_uri": "https://localhost:8080/",
          "height": 300
        },
        "id": "YROqw1L3RlqE",
        "outputId": "96a7affb-781d-4a30-b7f4-d35d566a1103"
      },
      "execution_count": null,
      "outputs": [
        {
          "output_type": "execute_result",
          "data": {
            "text/plain": [
              "                                         accuracy  precision    recall  \\\n",
              "0_baseline                               0.792651   0.811139  0.792651   \n",
              "1_simple_dense                           0.788714   0.795862  0.788714   \n",
              "2_LSTM                                   0.770341   0.771825  0.770341   \n",
              "3_GRU                                    0.761155   0.763026  0.761155   \n",
              "4_Bidirectional                          0.788714   0.795862  0.788714   \n",
              "5_Conv1D:                                0.788714   0.795862  0.788714   \n",
              "6_TF_Hub_USE_Encoder                     0.812336   0.812763  0.812336   \n",
              "7_TF_Hub_USE_Encoder_10_percent_of_data  0.770341   0.770981  0.770341   \n",
              "\n",
              "                                               f1  \n",
              "0_baseline                               0.786219  \n",
              "1_simple_dense                           0.785056  \n",
              "2_LSTM                                   0.768323  \n",
              "3_GRU                                    0.758712  \n",
              "4_Bidirectional                          0.785056  \n",
              "5_Conv1D:                                0.785056  \n",
              "6_TF_Hub_USE_Encoder                     0.811512  \n",
              "7_TF_Hub_USE_Encoder_10_percent_of_data  0.768806  "
            ],
            "text/html": [
              "\n",
              "  <div id=\"df-7ada5fc4-647f-447d-ae30-08ae5c040685\">\n",
              "    <div class=\"colab-df-container\">\n",
              "      <div>\n",
              "<style scoped>\n",
              "    .dataframe tbody tr th:only-of-type {\n",
              "        vertical-align: middle;\n",
              "    }\n",
              "\n",
              "    .dataframe tbody tr th {\n",
              "        vertical-align: top;\n",
              "    }\n",
              "\n",
              "    .dataframe thead th {\n",
              "        text-align: right;\n",
              "    }\n",
              "</style>\n",
              "<table border=\"1\" class=\"dataframe\">\n",
              "  <thead>\n",
              "    <tr style=\"text-align: right;\">\n",
              "      <th></th>\n",
              "      <th>accuracy</th>\n",
              "      <th>precision</th>\n",
              "      <th>recall</th>\n",
              "      <th>f1</th>\n",
              "    </tr>\n",
              "  </thead>\n",
              "  <tbody>\n",
              "    <tr>\n",
              "      <th>0_baseline</th>\n",
              "      <td>0.792651</td>\n",
              "      <td>0.811139</td>\n",
              "      <td>0.792651</td>\n",
              "      <td>0.786219</td>\n",
              "    </tr>\n",
              "    <tr>\n",
              "      <th>1_simple_dense</th>\n",
              "      <td>0.788714</td>\n",
              "      <td>0.795862</td>\n",
              "      <td>0.788714</td>\n",
              "      <td>0.785056</td>\n",
              "    </tr>\n",
              "    <tr>\n",
              "      <th>2_LSTM</th>\n",
              "      <td>0.770341</td>\n",
              "      <td>0.771825</td>\n",
              "      <td>0.770341</td>\n",
              "      <td>0.768323</td>\n",
              "    </tr>\n",
              "    <tr>\n",
              "      <th>3_GRU</th>\n",
              "      <td>0.761155</td>\n",
              "      <td>0.763026</td>\n",
              "      <td>0.761155</td>\n",
              "      <td>0.758712</td>\n",
              "    </tr>\n",
              "    <tr>\n",
              "      <th>4_Bidirectional</th>\n",
              "      <td>0.788714</td>\n",
              "      <td>0.795862</td>\n",
              "      <td>0.788714</td>\n",
              "      <td>0.785056</td>\n",
              "    </tr>\n",
              "    <tr>\n",
              "      <th>5_Conv1D:</th>\n",
              "      <td>0.788714</td>\n",
              "      <td>0.795862</td>\n",
              "      <td>0.788714</td>\n",
              "      <td>0.785056</td>\n",
              "    </tr>\n",
              "    <tr>\n",
              "      <th>6_TF_Hub_USE_Encoder</th>\n",
              "      <td>0.812336</td>\n",
              "      <td>0.812763</td>\n",
              "      <td>0.812336</td>\n",
              "      <td>0.811512</td>\n",
              "    </tr>\n",
              "    <tr>\n",
              "      <th>7_TF_Hub_USE_Encoder_10_percent_of_data</th>\n",
              "      <td>0.770341</td>\n",
              "      <td>0.770981</td>\n",
              "      <td>0.770341</td>\n",
              "      <td>0.768806</td>\n",
              "    </tr>\n",
              "  </tbody>\n",
              "</table>\n",
              "</div>\n",
              "      <button class=\"colab-df-convert\" onclick=\"convertToInteractive('df-7ada5fc4-647f-447d-ae30-08ae5c040685')\"\n",
              "              title=\"Convert this dataframe to an interactive table.\"\n",
              "              style=\"display:none;\">\n",
              "        \n",
              "  <svg xmlns=\"http://www.w3.org/2000/svg\" height=\"24px\"viewBox=\"0 0 24 24\"\n",
              "       width=\"24px\">\n",
              "    <path d=\"M0 0h24v24H0V0z\" fill=\"none\"/>\n",
              "    <path d=\"M18.56 5.44l.94 2.06.94-2.06 2.06-.94-2.06-.94-.94-2.06-.94 2.06-2.06.94zm-11 1L8.5 8.5l.94-2.06 2.06-.94-2.06-.94L8.5 2.5l-.94 2.06-2.06.94zm10 10l.94 2.06.94-2.06 2.06-.94-2.06-.94-.94-2.06-.94 2.06-2.06.94z\"/><path d=\"M17.41 7.96l-1.37-1.37c-.4-.4-.92-.59-1.43-.59-.52 0-1.04.2-1.43.59L10.3 9.45l-7.72 7.72c-.78.78-.78 2.05 0 2.83L4 21.41c.39.39.9.59 1.41.59.51 0 1.02-.2 1.41-.59l7.78-7.78 2.81-2.81c.8-.78.8-2.07 0-2.86zM5.41 20L4 18.59l7.72-7.72 1.47 1.35L5.41 20z\"/>\n",
              "  </svg>\n",
              "      </button>\n",
              "      \n",
              "  <style>\n",
              "    .colab-df-container {\n",
              "      display:flex;\n",
              "      flex-wrap:wrap;\n",
              "      gap: 12px;\n",
              "    }\n",
              "\n",
              "    .colab-df-convert {\n",
              "      background-color: #E8F0FE;\n",
              "      border: none;\n",
              "      border-radius: 50%;\n",
              "      cursor: pointer;\n",
              "      display: none;\n",
              "      fill: #1967D2;\n",
              "      height: 32px;\n",
              "      padding: 0 0 0 0;\n",
              "      width: 32px;\n",
              "    }\n",
              "\n",
              "    .colab-df-convert:hover {\n",
              "      background-color: #E2EBFA;\n",
              "      box-shadow: 0px 1px 2px rgba(60, 64, 67, 0.3), 0px 1px 3px 1px rgba(60, 64, 67, 0.15);\n",
              "      fill: #174EA6;\n",
              "    }\n",
              "\n",
              "    [theme=dark] .colab-df-convert {\n",
              "      background-color: #3B4455;\n",
              "      fill: #D2E3FC;\n",
              "    }\n",
              "\n",
              "    [theme=dark] .colab-df-convert:hover {\n",
              "      background-color: #434B5C;\n",
              "      box-shadow: 0px 1px 3px 1px rgba(0, 0, 0, 0.15);\n",
              "      filter: drop-shadow(0px 1px 2px rgba(0, 0, 0, 0.3));\n",
              "      fill: #FFFFFF;\n",
              "    }\n",
              "  </style>\n",
              "\n",
              "      <script>\n",
              "        const buttonEl =\n",
              "          document.querySelector('#df-7ada5fc4-647f-447d-ae30-08ae5c040685 button.colab-df-convert');\n",
              "        buttonEl.style.display =\n",
              "          google.colab.kernel.accessAllowed ? 'block' : 'none';\n",
              "\n",
              "        async function convertToInteractive(key) {\n",
              "          const element = document.querySelector('#df-7ada5fc4-647f-447d-ae30-08ae5c040685');\n",
              "          const dataTable =\n",
              "            await google.colab.kernel.invokeFunction('convertToInteractive',\n",
              "                                                     [key], {});\n",
              "          if (!dataTable) return;\n",
              "\n",
              "          const docLinkHtml = 'Like what you see? Visit the ' +\n",
              "            '<a target=\"_blank\" href=https://colab.research.google.com/notebooks/data_table.ipynb>data table notebook</a>'\n",
              "            + ' to learn more about interactive tables.';\n",
              "          element.innerHTML = '';\n",
              "          dataTable['output_type'] = 'display_data';\n",
              "          await google.colab.output.renderOutput(dataTable, element);\n",
              "          const docLink = document.createElement('div');\n",
              "          docLink.innerHTML = docLinkHtml;\n",
              "          element.appendChild(docLink);\n",
              "        }\n",
              "      </script>\n",
              "    </div>\n",
              "  </div>\n",
              "  "
            ]
          },
          "metadata": {},
          "execution_count": 116
        }
      ]
    },
    {
      "cell_type": "code",
      "source": [
        "# Plot and compare all of the model results\n",
        "all_model_results.plot(kind=\"bar\", figsize=(10, 7)).legend(bbox_to_anchor=(1.0, 1.0));"
      ],
      "metadata": {
        "colab": {
          "base_uri": "https://localhost:8080/",
          "height": 640
        },
        "id": "a6za6MakTQDA",
        "outputId": "26533b30-d8e6-49c6-eb49-9d389c9357b8"
      },
      "execution_count": null,
      "outputs": [
        {
          "output_type": "display_data",
          "data": {
            "text/plain": [
              "<Figure size 720x504 with 1 Axes>"
            ],
            "image/png": "[encoded data removed]"
          },
          "metadata": {
            "needs_background": "light"
          }
        }
      ]
    },
    {
      "cell_type": "code",
      "source": [
        ""
      ],
      "metadata": {
        "id": "izva9CoCTk4q"
      },
      "execution_count": null,
      "outputs": []
    }
  ],
  "metadata": {
    "accelerator": "GPU",
    "colab": {
      "collapsed_sections": [],
      "name": "NLP_Practice.ipynb",
      "provenance": []
    },
    "kernelspec": {
      "display_name": "Python 3",
      "name": "python3"
    },
    "language_info": {
      "name": "python"
    }
  },
  "nbformat": 4,
  "nbformat_minor": 0
}